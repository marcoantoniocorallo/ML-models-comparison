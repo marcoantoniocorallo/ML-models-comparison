{
 "cells": [
  {
   "attachments": {},
   "cell_type": "markdown",
   "metadata": {},
   "source": [
    "# Implementation of a Linear Model Classifier from scratch\n",
    "## TODO\n",
    "- [ ] Testing\n",
    "      \n",
    "      Note: produce 1 per ogni input. Sia in Val che in Test, la metà di questi sono corretti, l'altra metà no.\n",
    "- [ ] Accuracy: Normalization of data\n",
    "- [ ] Accuracy: find a better LBE\n",
    "\n",
    "## Must have\n",
    "* [x] Learning Algorithm: Gradient Descent\n",
    "* [x] Loss Function: Least Mean Square\n",
    "* [x] Version: Batch\n",
    "* [x] Threshold function: Sign\n",
    "* [x] Tikhonov Regularization\n",
    "* [x] KFold validation\n",
    "* [x] Linear Basis Expansion\n",
    "\n",
    "## Nice to have\n",
    "* [ ] Learning Algorithm: Normal Equation Solution\n",
    "* [ ] Version: Stochastic and mini-batch"
   ]
  },
  {
   "cell_type": "code",
   "execution_count": 37,
   "metadata": {},
   "outputs": [],
   "source": [
    "import numpy as np\n",
    "import pandas as pd\n",
    "from sklearn.base import BaseEstimator\n",
    "from sklearn.model_selection import GridSearchCV\n",
    "from sklearn.model_selection import KFold\n",
    "from sklearn.metrics import ConfusionMatrixDisplay, confusion_matrix\n",
    "import matplotlib.pyplot as plt"
   ]
  },
  {
   "cell_type": "code",
   "execution_count": 2,
   "metadata": {},
   "outputs": [],
   "source": [
    "def read_ds(path):\n",
    "  \"\"\"\n",
    "  parse CSV data set and\n",
    "  returns a tuple (input, target)\n",
    "  \"\"\"\n",
    "  df = pd.read_csv(path, sep=\" \", names=['NaN','y','x1','x2','x3','x4','x5','x6','garbage'])\n",
    "  y, df = df['y'], df.drop(columns=['NaN','garbage','y'])\n",
    "  \n",
    "  # One-hot encoding categorical variables\n",
    "  df = pd.get_dummies(df, columns=['x1','x2','x3','x4','x5','x6']).astype('int')\n",
    "\n",
    "  return (df, y)"
   ]
  },
  {
   "cell_type": "code",
   "execution_count": 3,
   "metadata": {},
   "outputs": [],
   "source": [
    "# Datasets Path\n",
    "TR_PATH = \"./monks/datasets/monks-1.train\"\n",
    "TS_PATH = \"./monks/datasets/monks-1.test\"\n",
    "\n",
    "# read training and test set\n",
    "X_train, y_train = read_ds(TR_PATH)\n",
    "X_test,  y_test  = read_ds(TS_PATH)"
   ]
  },
  {
   "cell_type": "code",
   "execution_count": 42,
   "metadata": {},
   "outputs": [],
   "source": [
    "# LinearClassifier implements BaseEstimator, in order to reuse the SciKit's Kfold CV\n",
    "\n",
    "class LinearClassifier(BaseEstimator):\n",
    "  def __init__(self, learning_rate=0.01, reg_param=0.1, epochs=1000):\n",
    "    self.learning_rate = learning_rate\n",
    "    self.reg_param = reg_param\n",
    "    self.epochs = epochs\n",
    "    self.weights = None\n",
    "\n",
    "  # Add bias to the input vector\n",
    "  def add_bias(self, X):\n",
    "    \"\"\" \n",
    "    Adds bias to a vector: [x1, ..., xn] -> [1, x1, ..., xn]\n",
    "    For a matrix, adds a column of ones to the left handside\n",
    "    \"\"\" \n",
    "    return np.c_[np.ones(X.shape[0]), X]\n",
    "\n",
    "  # Polynomial LBE\n",
    "  def to_poly(self, X):\n",
    "    \"\"\"\n",
    "    Take a vector [x1, ..., xn] and returns its polynomial transformation [x1^1, ..., xn^n]\n",
    "    \"\"\"\n",
    "    return np.asarray([ [ X[i][j]**j for j in range(len(X[i])) ] for i in range(len(X)) ])\n",
    "\n",
    "  def fit(self, X, y):\n",
    "    \"\"\"\n",
    "    Fit to the given dataset <X,y>.\n",
    "    It uses the Batch version of gradient descent, with LBE and decremental learning rate\n",
    "    \"\"\"\n",
    "\n",
    "    # Add bias component, apply LBE and set random initial weights vector \n",
    "    X = self.to_poly(self.add_bias(X))\n",
    "    self.weights = np.random.rand(X.shape[1])\n",
    "    dw = np.zeros_like(self.weights)\n",
    "    \n",
    "    # Batch version\n",
    "    for epoch in range(self.epochs):\n",
    "\n",
    "      # Gradient computation\n",
    "      for j in range(len(self.weights)):\n",
    "        s = sum( [ ( y.iloc[p] - np.dot(X[p], self.weights) ) * X[p][j] for p in range(len(X)) ] )\n",
    "        dw[j] = -2/len(X) * s\n",
    "      \n",
    "      # update weights and learning rate\n",
    "      self.weights += self.learning_rate * dw - ( 2 * self.reg_param * self.weights )\n",
    "      self.learning_rate /= 10\n",
    "    return self\n",
    "\n",
    "  def predict(self, X):\n",
    "    \"\"\"\n",
    "    returns the prediction of data X, using fitted weights\n",
    "    \"\"\" \n",
    "    X = self.add_bias(X)\n",
    "    predictions = X.dot(self.weights)\n",
    "    return np.sign(predictions)\n",
    "\n",
    "  def score(self, X, y):\n",
    "    \"\"\" \n",
    "    computes the prediction of the data X and measures the score wrt target y\n",
    "    \"\"\" \n",
    "    predictions = self.predict(X)\n",
    "    accuracy = np.mean(predictions == y)\n",
    "    return accuracy"
   ]
  },
  {
   "cell_type": "code",
   "execution_count": 43,
   "metadata": {},
   "outputs": [
    {
     "name": "stdout",
     "output_type": "stream",
     "text": [
      "Best parameters: {'epochs': 1000, 'learning_rate': 0.01, 'reg_param': 0.1} score: 0.501\n"
     ]
    }
   ],
   "source": [
    "# KFold validation\n",
    "\n",
    "cv = KFold(n_splits=5, shuffle=True, random_state=7)\n",
    "param_grid = {\n",
    "            'epochs' : [1000],\n",
    "            'learning_rate' : [0.01],\n",
    "            'reg_param' : [0.1]\n",
    "}\n",
    "grid = GridSearchCV(LinearClassifier(), param_grid, cv=cv, n_jobs=-1)\n",
    "grid.fit(X_train, y_train)\n",
    "print(\"Best parameters: \" + str(grid.best_params_) + \" score: \" + str(grid.best_score_))\n",
    "\n",
    "lc = grid.best_estimator_"
   ]
  },
  {
   "cell_type": "code",
   "execution_count": 45,
   "metadata": {},
   "outputs": [
    {
     "data": {
      "image/png": "[encoded data removed]",
      "text/plain": [
       "<Figure size 640x480 with 2 Axes>"
      ]
     },
     "metadata": {},
     "output_type": "display_data"
    },
    {
     "data": {
      "image/png": "[encoded data removed]",
      "text/plain": [
       "<Figure size 640x480 with 2 Axes>"
      ]
     },
     "metadata": {},
     "output_type": "display_data"
    }
   ],
   "source": [
    "# Validation confusion matrix\n",
    "\n",
    "predictions = lc.predict(X_train)\n",
    "cm = confusion_matrix(y_train, predictions)\n",
    "disp = ConfusionMatrixDisplay(confusion_matrix=cm)\n",
    "disp.plot()\n",
    "plt.show()\n",
    "\n",
    "# Model assessment\n",
    "\n",
    "lc.score(X_test, y_test)\n",
    "predictions = lc.predict(X_test)\n",
    "cm = confusion_matrix(y_test, predictions)\n",
    "disp = ConfusionMatrixDisplay(confusion_matrix=cm)\n",
    "disp.plot()\n",
    "plt.show()"
   ]
  }
 ],
 "metadata": {
  "kernelspec": {
   "display_name": "ML",
   "language": "python",
   "name": "python3"
  },
  "language_info": {
   "codemirror_mode": {
    "name": "ipython",
    "version": 3
   },
   "file_extension": ".py",
   "mimetype": "text/x-python",
   "name": "python",
   "nbconvert_exporter": "python",
   "pygments_lexer": "ipython3",
   "version": "3.10.12"
  },
  "orig_nbformat": 4,
  "vscode": {
   "interpreter": {
    "hash": "ca81cce83a162b5f4a5d747c8d97a71872a701a68cdc138d0312323614df47fd"
   }
  }
 },
 "nbformat": 4,
 "nbformat_minor": 2
}
