{
 "cells": [
  {
   "cell_type": "code",
   "execution_count": null,
   "metadata": {},
   "outputs": [],
   "source": [
    "import matplotlib.pyplot as plt\n",
    "from sklearn.metrics import ConfusionMatrixDisplay, confusion_matrix\n",
    "import torch.optim as optim\n",
    "from skorch import NeuralNetClassifier\n",
    "from sklearn.model_selection import GridSearchCV\n",
    "from sklearn.metrics import  mean_squared_error, make_scorer\n",
    "from monk_helpers import read_ds\n",
    "import skorch\n",
    "import torch\n",
    "import torch.nn as nn\n",
    "from monk_helpers import CV\n"
   ]
  },
  {
   "cell_type": "code",
   "execution_count": null,
   "metadata": {},
   "outputs": [],
   "source": [
    "# Datasets Path\n",
    "TR_PATH = \"./monks/datasets/monks-1.train\"\n",
    "TS_PATH = \"./monks/datasets/monks-1.test\""
   ]
  },
  {
   "cell_type": "code",
   "execution_count": null,
   "metadata": {},
   "outputs": [],
   "source": [
    "\n",
    "\n",
    "class Net(nn.Module):\n",
    "\n",
    "  def __init__(self, input_size=17, neurons=5, output_size=1,hidden_activation_fun = nn.Tanh,output_activation_fun =nn.Sigmoid):\n",
    "    super().__init__()\n",
    "    self.neurons = neurons\n",
    "    self.hidden_activation_fun = hidden_activation_fun()\n",
    "    self.output_activation_fun = output_activation_fun()   \n",
    "    self.l1 = nn.Linear(input_size, neurons)\n",
    "    self.l2 = nn.Linear(neurons, output_size)\n",
    "    \n",
    "  def forward(self, x):\n",
    "    out = self.hidden_activation_fun(self.l1(x))\n",
    "    out = self.output_activation_fun(self.l2(out))\n",
    "    return out\n",
    "  \n",
    "  def reset_weights(net):\n",
    "      for param in net.parameters():\n",
    "          torch.nn.init.uniform_(param, a=-0.7, b=0.7)\n",
    "\n"
   ]
  },
  {
   "cell_type": "code",
   "execution_count": null,
   "metadata": {},
   "outputs": [],
   "source": [
    "X_train, y_train = read_ds(TR_PATH)\n",
    "X_test, y_test = read_ds(TS_PATH)\n",
    "X_train"
   ]
  },
  {
   "cell_type": "code",
   "execution_count": null,
   "metadata": {},
   "outputs": [],
   "source": [
    "\n",
    "model_nn = NeuralNetClassifier(\n",
    "    module=Net,\n",
    "\n",
    "    callbacks=[skorch.callbacks.EarlyStopping(monitor='valid_loss', patience=50, threshold=1e-4)]\n",
    ")\n",
    "params_grid = {\n",
    "    'batch_size': [10, 20, 40, 60, 80, 100],\n",
    "    'max_epochs': [4, 32, 64],\n",
    "    \"criterion\":[nn.MSELoss,nn.BCELoss, nn.BCEWithLogitsLoss],\n",
    "    'optimizer': [optim.SGD, optim.RMSprop, optim.Adagrad, optim.Adadelta,\n",
    "                  optim.Adam, optim.Adamax, optim.NAdam],\n",
    "    'module__hidden_activation_fun': [nn.Identity, nn.ReLU, nn.ELU, nn.ReLU6,\n",
    "                           nn.GELU, nn.Softplus, nn.Softsign, nn.Tanh],\n",
    "    'module__output_activation_fun': [nn.Sigmoid,nn.Softmax],\n",
    "    'optimizer__lr': [0.01, 0.2, 0.25, 0.3],\n",
    "    'optimizer__momentum': [0.5, 0.6, 0.7],\n",
    "    \"model__neurons\": [2, 3, 4],\n",
    "}\n",
    "\n",
    "'''params_grid = {\n",
    "    'batch_size': [8],\n",
    "    'max_epochs': [600],\n",
    "    \"criterion\":  [nn.MSELoss],\n",
    "    'optimizer': [optim.SGD],\n",
    "    'module__hidden_activation_fun': [nn.Tanh],\n",
    "    'module__output_activation_fun': [nn.Sigmoid],\n",
    "    'optimizer__lr': [0.5],\n",
    "    'optimizer__momentum': [0.7],\n",
    "    \"module__neurons\": [4],\n",
    "    'module__input_size':[len(X_train.columns)],\n",
    "    'module__output_size':[1]\n",
    "}'''\n",
    "\n",
    "custom_scores_monk = {\n",
    "    \"accuracy\": \"accuracy\",\n",
    "    \"mse\": make_scorer(mean_squared_error,greater_is_better=False)\n",
    "}\n",
    "\n",
    "grid = GridSearchCV(model_nn,\n",
    "                    param_grid=params_grid,\n",
    "                    cv=CV,\n",
    "                    refit=True,\n",
    "                    return_train_score=True,\n",
    "                    n_jobs=4,\n",
    "        )"
   ]
  },
  {
   "cell_type": "code",
   "execution_count": null,
   "metadata": {},
   "outputs": [],
   "source": [
    "X = torch.tensor(X_train.values, dtype=torch.float32)\n",
    "y = torch.tensor(y_train, dtype=torch.float32).reshape(-1, 1)"
   ]
  },
  {
   "cell_type": "code",
   "execution_count": null,
   "metadata": {},
   "outputs": [],
   "source": [
    "grid.fit(X, y)\n",
    "print(\"Best parameters: \" + str(grid.best_params_) + \" score: \" + str(grid.best_score_))"
   ]
  },
  {
   "cell_type": "code",
   "execution_count": null,
   "metadata": {},
   "outputs": [],
   "source": [
    "from sklearn.metrics import accuracy_score\n",
    "\n",
    "from sklearn.metrics import classification_report\n",
    "\n",
    "\n",
    "y_pred = grid.best_estimator_.predict(X_test.values.astype(\"float32\"))\n",
    "#y_pred = y_pred.round().int().view(-1)\n",
    "print(\"accuracy on test set {:.3f}\".format(accuracy_score(y_test,y_pred)))\n",
    "print(classification_report(y_test, \n",
    "                            y_pred, \n",
    "                            target_names=['0', '1']))\n",
    "\n",
    "#print the confusion matrix\n",
    "cm = confusion_matrix(y_test, y_pred)\n",
    "disp = ConfusionMatrixDisplay(confusion_matrix=cm, display_labels=[0,1])\n",
    "disp.plot()\n",
    "plt.show()\n",
    "print(\"------------------------------------------------------------------------------------------------------\")"
   ]
  }
 ],
 "metadata": {
  "language_info": {
   "name": "python"
  }
 },
 "nbformat": 4,
 "nbformat_minor": 2
}
