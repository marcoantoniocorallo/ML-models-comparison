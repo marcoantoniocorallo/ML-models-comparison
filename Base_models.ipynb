{
 "cells": [
  {
   "cell_type": "code",
   "execution_count": 113,
   "metadata": {},
   "outputs": [],
   "source": [
    "import pandas as pd\n",
    "import numpy as np\n",
    "import matplotlib.pyplot as plt\n",
    "from sklearn import datasets\n",
    "from sklearn.model_selection import KFold\n",
    "from sklearn.neighbors import KNeighborsClassifier\n",
    "from sklearn.model_selection import GridSearchCV\n",
    "from sklearn.utils import shuffle\n",
    "from sklearn.metrics import ConfusionMatrixDisplay, confusion_matrix\n",
    "from sklearn.naive_bayes import GaussianNB\n",
    "from sklearn.naive_bayes import BernoulliNB\n",
    "from sklearn import metrics\n",
    "from sklearn.naive_bayes import MultinomialNB\n",
    "from sklearn.metrics import accuracy_score\n",
    "from sklearn.svm import SVC\n",
    "from sklearn.metrics import classification_report\n",
    "\n",
    "\n"
   ]
  },
  {
   "cell_type": "code",
   "execution_count": 114,
   "metadata": {},
   "outputs": [],
   "source": [
    "def read_ds(path):\n",
    "  \"\"\"\n",
    "  parse CSV data set and\n",
    "  returns a tuple (input, target)\n",
    "  \"\"\"\n",
    "  df = pd.read_csv(path, sep=\" \", names=['NaN','y','x1','x2','x3','x4','x5','x6','garbage'])\n",
    "  y, df = df['y'], df.drop(columns=['NaN','garbage','y'])\n",
    "  \n",
    "  # One-hot encoding categorical variables\n",
    "  df = pd.get_dummies(df, columns=['x1','x2','x3','x4','x5','x6']).astype('int')\n",
    "\n",
    "  return (df, y)"
   ]
  },
  {
   "cell_type": "code",
   "execution_count": 115,
   "metadata": {},
   "outputs": [],
   "source": [
    "cv_strategy = KFold(n_splits=5, shuffle=True, random_state=7)"
   ]
  },
  {
   "cell_type": "code",
   "execution_count": 116,
   "metadata": {},
   "outputs": [],
   "source": [
    "# Function extracting each grid from dictionary of grids\n",
    "def list_grids(grids_dict):\n",
    "    return [grids_dict[item] for item in grids_dict]"
   ]
  },
  {
   "cell_type": "code",
   "execution_count": 117,
   "metadata": {},
   "outputs": [],
   "source": [
    "# Function that prints the classification report\n",
    "def print_report_score(test_label, test_pred):\n",
    "    print(classification_report(test_label, \n",
    "                            test_pred, \n",
    "                            target_names=['0', '1']))"
   ]
  },
  {
   "cell_type": "code",
   "execution_count": 118,
   "metadata": {},
   "outputs": [],
   "source": [
    "GRID_GAUSSIAN_NB = { 'var_smoothing': np.logspace(0,-9, num=100) }\n",
    "GRID_BERNULLI_NB = { 'alpha': np.linspace(0,1, num=100), \"force_alpha\":[True] }\n",
    "GRID_KNN = { \n",
    "            'n_neighbors' : range(1,25), \n",
    "            'algorithm' : ['auto', 'ball_tree', 'kd_tree', 'brute'], \n",
    "            'metric' : ['euclidean', 'manhattan', 'chebyshev', 'minkowski'], \n",
    "            'weights' : ['distance', 'uniform'] \n",
    "            }\n",
    "GRID_MNB = {  }\n",
    "\n",
    "GRID_SVM = {\n",
    "  \"linear_rbf_sigmoid\": {\n",
    "   \"kernel\": ['linear', 'rbf','sigmoid'],\n",
    "   \"C\":[0.01,10,100],\n",
    "   \"gamma\" : ['scale', 'auto']\n",
    "  },\n",
    "  \"poly\": {\n",
    "    \"kernel\": ['poly'],\n",
    "    \"C\":[0.01,10,100],\n",
    "    \"degree\": [2,3,5],\n",
    "    \"gamma\" : ['scale', 'auto']\n",
    "  }\n",
    "    } \n",
    "\n",
    "params_map = {\n",
    "    'gaussian_nb': GRID_GAUSSIAN_NB,\n",
    "    'bernulli_nb': GRID_BERNULLI_NB,\n",
    "    'multinomial_nb': GRID_MNB,\n",
    "    'knn': GRID_KNN,\n",
    "    \"svm\": GRID_SVM\n",
    "    }"
   ]
  },
  {
   "cell_type": "code",
   "execution_count": 119,
   "metadata": {},
   "outputs": [],
   "source": [
    "def execute_gridesearch(X, y, model, model_name):\n",
    "  \"\"\"\n",
    "  Performs a GridSearchCV with the given model and parameters\n",
    "  \"\"\"\n",
    "  params = params_map[model_name]\n",
    "  if(model_name == \"svm\"):\n",
    "    params = list_grids(params)\n",
    "  grid = GridSearchCV(model(), params,scoring=\"accuracy\",refit=True, cv=cv_strategy, n_jobs=-1,verbose=10).fit(X, y)\n",
    "  results = pd.DataFrame(grid.cv_results_)\n",
    "  print(\"Mean validation accuracy: \", results[\"mean_test_score\"][grid.best_index_])\n",
    "  print(\"Mean std validation accuracy: \", results[\"std_test_score\"][grid.best_index_])\n",
    "  return grid\n",
    "\n"
   ]
  },
  {
   "cell_type": "code",
   "execution_count": 120,
   "metadata": {},
   "outputs": [],
   "source": [
    "\n",
    "def grid_search_models(X,y,X_test,y_test):\n",
    "    models_to_use = [ (GaussianNB, \"gaussian_nb\"), (KNeighborsClassifier, \"knn\"), (BernoulliNB, \"bernulli_nb\"), (MultinomialNB, \"multinomial_nb\"),(SVC,\"svm\")]\n",
    "\n",
    "    for model, name in models_to_use:\n",
    "        grid = execute_gridesearch(X, y, model, name)\n",
    "        print(\"Model used: \" + name + \", best parameters: \" + str(grid.best_params_) )\n",
    "        y_pred = grid.best_estimator_.predict(X_test)\n",
    "        print(\"accuracy on test set {:.3f}\".format(accuracy_score(y_test,y_pred)))\n",
    "        print_report_score(y_test,y_pred)\n"
   ]
  },
  {
   "cell_type": "markdown",
   "metadata": {},
   "source": [
    "# Monk 1"
   ]
  },
  {
   "cell_type": "code",
   "execution_count": 121,
   "metadata": {},
   "outputs": [],
   "source": [
    "# Datasets Path\n",
    "TR_PATH = \"./monks/datasets/monks-1.train\"\n",
    "TS_PATH = \"./monks/datasets/monks-1.test\""
   ]
  },
  {
   "cell_type": "code",
   "execution_count": 122,
   "metadata": {},
   "outputs": [],
   "source": [
    "# read training and test set\n",
    "X_train, y_train = read_ds(TR_PATH)\n",
    "X_test,  y_test  = read_ds(TS_PATH)"
   ]
  },
  {
   "cell_type": "code",
   "execution_count": 123,
   "metadata": {},
   "outputs": [
    {
     "name": "stdout",
     "output_type": "stream",
     "text": [
      "Fitting 5 folds for each of 100 candidates, totalling 500 fits\n",
      "Mean validation accuracy:  0.7333333333333334\n",
      "Mean std validation accuracy:  0.12161871201057473\n",
      "Model used: gaussian_nb, best parameters: {'var_smoothing': 0.02310129700083159}\n",
      "accuracy on test set 0.748\n",
      "              precision    recall  f1-score   support\n",
      "\n",
      "           0       0.67      0.96      0.79       216\n",
      "           1       0.93      0.54      0.68       216\n",
      "\n",
      "    accuracy                           0.75       432\n",
      "   macro avg       0.80      0.75      0.74       432\n",
      "weighted avg       0.80      0.75      0.74       432\n",
      "\n",
      "Fitting 5 folds for each of 768 candidates, totalling 3840 fits\n",
      "Mean validation accuracy:  0.8306666666666667\n",
      "Mean std validation accuracy:  0.029694743268426766\n",
      "Model used: knn, best parameters: {'algorithm': 'ball_tree', 'metric': 'manhattan', 'n_neighbors': 7, 'weights': 'distance'}\n",
      "accuracy on test set 0.880\n",
      "              precision    recall  f1-score   support\n",
      "\n",
      "           0       0.88      0.88      0.88       216\n",
      "           1       0.88      0.88      0.88       216\n",
      "\n",
      "    accuracy                           0.88       432\n",
      "   macro avg       0.88      0.88      0.88       432\n",
      "weighted avg       0.88      0.88      0.88       432\n",
      "\n",
      "Fitting 5 folds for each of 100 candidates, totalling 500 fits\n"
     ]
    },
    {
     "name": "stderr",
     "output_type": "stream",
     "text": [
      "c:\\Users\\given\\AppData\\Local\\Programs\\Python\\Python310\\lib\\site-packages\\sklearn\\naive_bayes.py:1212: RuntimeWarning: divide by zero encountered in log\n",
      "  self.feature_log_prob_ = np.log(smoothed_fc) - np.log(\n",
      "c:\\Users\\given\\AppData\\Local\\Programs\\Python\\Python310\\lib\\site-packages\\sklearn\\utils\\extmath.py:192: RuntimeWarning: invalid value encountered in matmul\n",
      "  ret = a @ b\n"
     ]
    },
    {
     "name": "stdout",
     "output_type": "stream",
     "text": [
      "Mean validation accuracy:  0.7333333333333334\n",
      "Mean std validation accuracy:  0.12161871201057473\n",
      "Model used: bernulli_nb, best parameters: {'alpha': 0.0, 'force_alpha': True}\n",
      "accuracy on test set 0.750\n",
      "              precision    recall  f1-score   support\n",
      "\n",
      "           0       0.67      1.00      0.80       216\n",
      "           1       1.00      0.50      0.67       216\n",
      "\n",
      "    accuracy                           0.75       432\n",
      "   macro avg       0.83      0.75      0.73       432\n",
      "weighted avg       0.83      0.75      0.73       432\n",
      "\n",
      "Fitting 5 folds for each of 1 candidates, totalling 5 fits\n",
      "Mean validation accuracy:  0.7020000000000001\n",
      "Mean std validation accuracy:  0.0988736567544662\n",
      "Model used: multinomial_nb, best parameters: {}\n",
      "accuracy on test set 0.713\n",
      "              precision    recall  f1-score   support\n",
      "\n",
      "           0       0.69      0.76      0.73       216\n",
      "           1       0.74      0.66      0.70       216\n",
      "\n",
      "    accuracy                           0.71       432\n",
      "   macro avg       0.72      0.71      0.71       432\n",
      "weighted avg       0.72      0.71      0.71       432\n",
      "\n",
      "Fitting 5 folds for each of 36 candidates, totalling 180 fits\n",
      "Mean validation accuracy:  1.0\n",
      "Mean std validation accuracy:  0.0\n",
      "Model used: svm, best parameters: {'C': 10, 'degree': 2, 'gamma': 'scale', 'kernel': 'poly'}\n",
      "accuracy on test set 1.000\n",
      "              precision    recall  f1-score   support\n",
      "\n",
      "           0       1.00      1.00      1.00       216\n",
      "           1       1.00      1.00      1.00       216\n",
      "\n",
      "    accuracy                           1.00       432\n",
      "   macro avg       1.00      1.00      1.00       432\n",
      "weighted avg       1.00      1.00      1.00       432\n",
      "\n"
     ]
    }
   ],
   "source": [
    "grid_search_models(X_train,y_train,X_test,y_test)"
   ]
  },
  {
   "cell_type": "markdown",
   "metadata": {},
   "source": [
    "# Monk 2"
   ]
  },
  {
   "cell_type": "code",
   "execution_count": 124,
   "metadata": {},
   "outputs": [],
   "source": [
    "# Datasets Path\n",
    "TR_PATH = \"./monks/datasets/monks-2.train\"\n",
    "TS_PATH = \"./monks/datasets/monks-2.test\""
   ]
  },
  {
   "cell_type": "code",
   "execution_count": 125,
   "metadata": {},
   "outputs": [],
   "source": [
    "# read training and test set\n",
    "X_train, y_train = read_ds(TR_PATH)\n",
    "X_test,  y_test  = read_ds(TS_PATH)"
   ]
  },
  {
   "cell_type": "code",
   "execution_count": 126,
   "metadata": {},
   "outputs": [
    {
     "name": "stdout",
     "output_type": "stream",
     "text": [
      "Fitting 5 folds for each of 100 candidates, totalling 500 fits\n",
      "Mean validation accuracy:  0.5859180035650623\n",
      "Mean std validation accuracy:  0.06877106070495258\n",
      "Model used: gaussian_nb, best parameters: {'var_smoothing': 1.0}\n",
      "accuracy on test set 0.630\n",
      "              precision    recall  f1-score   support\n",
      "\n",
      "           0       0.67      0.88      0.76       290\n",
      "           1       0.32      0.11      0.17       142\n",
      "\n",
      "    accuracy                           0.63       432\n",
      "   macro avg       0.50      0.50      0.46       432\n",
      "weighted avg       0.56      0.63      0.57       432\n",
      "\n",
      "Fitting 5 folds for each of 768 candidates, totalling 3840 fits\n",
      "Mean validation accuracy:  0.669162210338681\n",
      "Mean std validation accuracy:  0.06615424523400157\n",
      "Model used: knn, best parameters: {'algorithm': 'ball_tree', 'metric': 'euclidean', 'n_neighbors': 23, 'weights': 'uniform'}\n",
      "accuracy on test set 0.650\n",
      "              precision    recall  f1-score   support\n",
      "\n",
      "           0       0.68      0.91      0.78       290\n",
      "           1       0.40      0.12      0.18       142\n",
      "\n",
      "    accuracy                           0.65       432\n",
      "   macro avg       0.54      0.52      0.48       432\n",
      "weighted avg       0.59      0.65      0.58       432\n",
      "\n",
      "Fitting 5 folds for each of 100 candidates, totalling 500 fits\n",
      "Mean validation accuracy:  0.5267379679144385\n",
      "Mean std validation accuracy:  0.08650879342777826\n",
      "Model used: bernulli_nb, best parameters: {'alpha': 0.0, 'force_alpha': True}\n",
      "accuracy on test set 0.606\n",
      "              precision    recall  f1-score   support\n",
      "\n",
      "           0       0.68      0.77      0.72       290\n",
      "           1       0.37      0.27      0.31       142\n",
      "\n",
      "    accuracy                           0.61       432\n",
      "   macro avg       0.53      0.52      0.52       432\n",
      "weighted avg       0.58      0.61      0.59       432\n",
      "\n",
      "Fitting 5 folds for each of 1 candidates, totalling 5 fits\n",
      "Mean validation accuracy:  0.5859180035650623\n",
      "Mean std validation accuracy:  0.06877106070495258\n",
      "Model used: multinomial_nb, best parameters: {}\n",
      "accuracy on test set 0.616\n",
      "              precision    recall  f1-score   support\n",
      "\n",
      "           0       0.67      0.85      0.75       290\n",
      "           1       0.31      0.13      0.19       142\n",
      "\n",
      "    accuracy                           0.62       432\n",
      "   macro avg       0.49      0.49      0.47       432\n",
      "weighted avg       0.55      0.62      0.56       432\n",
      "\n",
      "Fitting 5 folds for each of 36 candidates, totalling 180 fits\n",
      "Mean validation accuracy:  0.9588235294117646\n",
      "Mean std validation accuracy:  0.029994232432898744\n",
      "Model used: svm, best parameters: {'C': 100, 'degree': 2, 'gamma': 'scale', 'kernel': 'poly'}\n",
      "accuracy on test set 1.000\n",
      "              precision    recall  f1-score   support\n",
      "\n",
      "           0       1.00      1.00      1.00       290\n",
      "           1       1.00      1.00      1.00       142\n",
      "\n",
      "    accuracy                           1.00       432\n",
      "   macro avg       1.00      1.00      1.00       432\n",
      "weighted avg       1.00      1.00      1.00       432\n",
      "\n"
     ]
    }
   ],
   "source": [
    "grid_search_models(X_train,y_train,X_test,y_test)"
   ]
  },
  {
   "cell_type": "markdown",
   "metadata": {},
   "source": [
    "# Monk 3"
   ]
  },
  {
   "cell_type": "code",
   "execution_count": 127,
   "metadata": {},
   "outputs": [],
   "source": [
    "# Datasets Path\n",
    "TR_PATH = \"./monks/datasets/monks-3.train\"\n",
    "TS_PATH = \"./monks/datasets/monks-3.test\""
   ]
  },
  {
   "cell_type": "code",
   "execution_count": 128,
   "metadata": {},
   "outputs": [],
   "source": [
    "# read training and test set\n",
    "X_train, y_train = read_ds(TR_PATH)\n",
    "X_test,  y_test  = read_ds(TS_PATH)"
   ]
  },
  {
   "cell_type": "code",
   "execution_count": 129,
   "metadata": {},
   "outputs": [
    {
     "name": "stdout",
     "output_type": "stream",
     "text": [
      "Fitting 5 folds for each of 100 candidates, totalling 500 fits\n",
      "Mean validation accuracy:  0.9339999999999999\n",
      "Mean std validation accuracy:  0.03383949040856128\n",
      "Model used: gaussian_nb, best parameters: {'var_smoothing': 0.533669923120631}\n",
      "accuracy on test set 0.972\n",
      "              precision    recall  f1-score   support\n",
      "\n",
      "           0       0.94      1.00      0.97       204\n",
      "           1       1.00      0.95      0.97       228\n",
      "\n",
      "    accuracy                           0.97       432\n",
      "   macro avg       0.97      0.97      0.97       432\n",
      "weighted avg       0.97      0.97      0.97       432\n",
      "\n",
      "Fitting 5 folds for each of 768 candidates, totalling 3840 fits\n",
      "Mean validation accuracy:  0.9183333333333333\n",
      "Mean std validation accuracy:  0.03619392214170773\n",
      "Model used: knn, best parameters: {'algorithm': 'ball_tree', 'metric': 'manhattan', 'n_neighbors': 23, 'weights': 'distance'}\n",
      "accuracy on test set 0.933\n",
      "              precision    recall  f1-score   support\n",
      "\n",
      "           0       0.91      0.96      0.93       204\n",
      "           1       0.96      0.91      0.93       228\n",
      "\n",
      "    accuracy                           0.93       432\n",
      "   macro avg       0.93      0.93      0.93       432\n",
      "weighted avg       0.93      0.93      0.93       432\n",
      "\n",
      "Fitting 5 folds for each of 100 candidates, totalling 500 fits\n",
      "Mean validation accuracy:  0.9259999999999999\n",
      "Mean std validation accuracy:  0.03138647975022225\n",
      "Model used: bernulli_nb, best parameters: {'alpha': 0.010101010101010102, 'force_alpha': True}\n",
      "accuracy on test set 0.972\n",
      "              precision    recall  f1-score   support\n",
      "\n",
      "           0       0.94      1.00      0.97       204\n",
      "           1       1.00      0.95      0.97       228\n",
      "\n",
      "    accuracy                           0.97       432\n",
      "   macro avg       0.97      0.97      0.97       432\n",
      "weighted avg       0.97      0.97      0.97       432\n",
      "\n",
      "Fitting 5 folds for each of 1 candidates, totalling 5 fits\n",
      "Mean validation accuracy:  0.9259999999999999\n",
      "Mean std validation accuracy:  0.03138647975022225\n",
      "Model used: multinomial_nb, best parameters: {}\n",
      "accuracy on test set 0.972\n",
      "              precision    recall  f1-score   support\n",
      "\n",
      "           0       0.94      1.00      0.97       204\n",
      "           1       1.00      0.95      0.97       228\n",
      "\n",
      "    accuracy                           0.97       432\n",
      "   macro avg       0.97      0.97      0.97       432\n",
      "weighted avg       0.97      0.97      0.97       432\n",
      "\n",
      "Fitting 5 folds for each of 36 candidates, totalling 180 fits\n",
      "Mean validation accuracy:  0.9339999999999999\n",
      "Mean std validation accuracy:  0.03383949040856128\n",
      "Model used: svm, best parameters: {'C': 10, 'gamma': 'scale', 'kernel': 'linear'}\n",
      "accuracy on test set 0.972\n",
      "              precision    recall  f1-score   support\n",
      "\n",
      "           0       0.94      1.00      0.97       204\n",
      "           1       1.00      0.95      0.97       228\n",
      "\n",
      "    accuracy                           0.97       432\n",
      "   macro avg       0.97      0.97      0.97       432\n",
      "weighted avg       0.97      0.97      0.97       432\n",
      "\n"
     ]
    }
   ],
   "source": [
    "grid_search_models(X_train,y_train,X_test,y_test)"
   ]
  }
 ],
 "metadata": {
  "kernelspec": {
   "display_name": "base",
   "language": "python",
   "name": "python3"
  },
  "language_info": {
   "codemirror_mode": {
    "name": "ipython",
    "version": 3
   },
   "file_extension": ".py",
   "mimetype": "text/x-python",
   "name": "python",
   "nbconvert_exporter": "python",
   "pygments_lexer": "ipython3",
   "version": "3.10.7"
  }
 },
 "nbformat": 4,
 "nbformat_minor": 2
}
