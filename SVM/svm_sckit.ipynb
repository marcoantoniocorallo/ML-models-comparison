{
 "cells": [
  {
   "cell_type": "code",
   "execution_count": 22,
   "metadata": {},
   "outputs": [],
   "source": [
    "from sklearn.model_selection import GridSearchCV,StratifiedKFold\n",
    "from sklearn.svm import SVC\n",
    "#from utilities.monk_helpers import read_ds\n",
    "from sklearn.metrics import classification_report\n",
    "\n"
   ]
  },
  {
   "cell_type": "code",
   "execution_count": 23,
   "metadata": {},
   "outputs": [],
   "source": [
    "import pandas as pd\n",
    "def read_ds(path):\n",
    "  \"\"\"\n",
    "  parse CSV data set and\n",
    "  returns a tuple (input, target)\n",
    "  \"\"\"\n",
    "  df = pd.read_csv(path, sep=\" \", names=['NaN','y','x1','x2','x3','x4','x5','x6','garbage'])\n",
    "  y, df = df['y'], df.drop(columns=['NaN','garbage','y'])\n",
    "  \n",
    "  # One-hot encoding categorical variables\n",
    "  df = pd.get_dummies(df, columns=['x1','x2','x3','x4','x5','x6']).astype('int')\n",
    "\n",
    "  return (df, y)"
   ]
  },
  {
   "cell_type": "code",
   "execution_count": 24,
   "metadata": {},
   "outputs": [],
   "source": [
    "cv_strategy = StratifiedKFold(n_splits=5, shuffle=True, random_state=42)"
   ]
  },
  {
   "cell_type": "code",
   "execution_count": 25,
   "metadata": {},
   "outputs": [],
   "source": [
    "# Function extracting each grid from dictionary of grids\n",
    "def list_grids(grids_dict):\n",
    "    return [grids_dict[item] for item in grids_dict]\n",
    "\n",
    "# Function performing gridsearch cv according to sklearn and saving results as a csv\n",
    "def do_sklearn_GridSearchCV(model_name,model,param_grid,scoring,refit,cv,return_train_score,n_jobs,X,y):\n",
    "    hp_search = GridSearchCV(model,\n",
    "                                param_grid=param_grid,\n",
    "                                scoring=scoring,\n",
    "                                refit=refit,\n",
    "                                cv=cv,\n",
    "                                return_train_score=return_train_score,\n",
    "                                n_jobs=n_jobs,\n",
    "                                verbose=10\n",
    "                                ).fit(X, y)\n",
    "    return hp_search"
   ]
  },
  {
   "cell_type": "code",
   "execution_count": 26,
   "metadata": {},
   "outputs": [],
   "source": [
    "def get_grid_params(grid):\n",
    "    index_best_model = grid.best_index_ \n",
    "    results_dict = grid.cv_results_\n",
    "    print(f\"best parameters {results_dict['params'][index_best_model]}\")"
   ]
  },
  {
   "cell_type": "code",
   "execution_count": 27,
   "metadata": {},
   "outputs": [],
   "source": [
    "# Function that prints the classification report\n",
    "def print_report_score(test_label, test_pred):\n",
    "    print(classification_report(test_label, \n",
    "                            test_pred, \n",
    "                            target_names=['0', '1']))"
   ]
  },
  {
   "cell_type": "code",
   "execution_count": 28,
   "metadata": {},
   "outputs": [],
   "source": [
    "monk1_TR_PATH = \"../monks/datasets/monks-1.train\"\n",
    "monk1_TS_PATH = \"../monks/datasets/monks-1.test\"\n",
    "monk2_TR_PATH = \"../monks/datasets/monks-2.train\"\n",
    "monk2_TS_PATH = \"../monks/datasets/monks-2.test\"\n",
    "monk3_TR_PATH = \"../monks/datasets/monks-3.train\"\n",
    "monk3_TS_PATH = \"../monks/datasets/monks-3.test\""
   ]
  },
  {
   "cell_type": "markdown",
   "metadata": {},
   "source": [
    "# SVM"
   ]
  },
  {
   "cell_type": "code",
   "execution_count": 29,
   "metadata": {},
   "outputs": [],
   "source": [
    "params = {\n",
    "  \"linear_rbf_sigmoid\": {\n",
    "   \"kernel\": ['linear', 'rbf','sigmoid'],\n",
    "   \"C\":[0.01,10,100],\n",
    "   \"gamma\" : ['scale', 'auto']\n",
    "  },\n",
    "  \"poly\": {\n",
    "    \"kernel\": ['poly'],\n",
    "    \"C\":[0.01,10,100],\n",
    "    \"degree\": [2,3,5],\n",
    "    \"gamma\" : ['scale', 'auto']\n",
    "  }\n",
    "    } "
   ]
  },
  {
   "cell_type": "code",
   "execution_count": 30,
   "metadata": {},
   "outputs": [],
   "source": [
    "def grid_search_svm_monk():\n",
    "    for i in range(0,3):\n",
    "        if i == 0:\n",
    "            X_train, y_train = read_ds(monk1_TR_PATH)\n",
    "            X_test, y_test = read_ds(monk1_TS_PATH)\n",
    "        elif i == 1:\n",
    "            X_train, y_train = read_ds(monk2_TR_PATH)\n",
    "            X_test, y_test = read_ds(monk2_TS_PATH)\n",
    "        elif i == 2:\n",
    "            X_train, y_train = read_ds(monk3_TR_PATH)\n",
    "            X_test, y_test = read_ds(monk3_TS_PATH)\n",
    "        grid_svm = do_sklearn_GridSearchCV(\"SVC\",SVC(),list_grids(params),['accuracy', 'precision', 'recall', 'f1', 'roc_auc'],\"accuracy\",cv_strategy,True,4,X_train,y_train)\n",
    "        print(f\"Best grid parameters for monk {i+1}\")\n",
    "        get_grid_params(grid_svm)\n",
    "        svm_test_pred = grid_svm.best_estimator_.predict(X_test)\n",
    "        print(f\"Accuracy on test set for MONK {i+1}\")\n",
    "        print_report_score(y_test,svm_test_pred)\n"
   ]
  },
  {
   "cell_type": "code",
   "execution_count": 31,
   "metadata": {},
   "outputs": [
    {
     "name": "stdout",
     "output_type": "stream",
     "text": [
      "Fitting 5 folds for each of 36 candidates, totalling 180 fits\n",
      "Best grid parameters for monk 1\n",
      "best parameters {'C': 10, 'degree': 2, 'gamma': 'scale', 'kernel': 'poly'}\n",
      "Accuracy on test set for MONK 1\n",
      "              precision    recall  f1-score   support\n",
      "\n",
      "           0       1.00      1.00      1.00       216\n",
      "           1       1.00      1.00      1.00       216\n",
      "\n",
      "    accuracy                           1.00       432\n",
      "   macro avg       1.00      1.00      1.00       432\n",
      "weighted avg       1.00      1.00      1.00       432\n",
      "\n",
      "Fitting 5 folds for each of 36 candidates, totalling 180 fits\n",
      "Best grid parameters for monk 2\n",
      "best parameters {'C': 100, 'degree': 2, 'gamma': 'scale', 'kernel': 'poly'}\n",
      "Accuracy on test set for MONK 2\n",
      "              precision    recall  f1-score   support\n",
      "\n",
      "           0       1.00      1.00      1.00       290\n",
      "           1       1.00      1.00      1.00       142\n",
      "\n",
      "    accuracy                           1.00       432\n",
      "   macro avg       1.00      1.00      1.00       432\n",
      "weighted avg       1.00      1.00      1.00       432\n",
      "\n",
      "Fitting 5 folds for each of 36 candidates, totalling 180 fits\n",
      "Best grid parameters for monk 3\n",
      "best parameters {'C': 10, 'gamma': 'scale', 'kernel': 'linear'}\n",
      "Accuracy on test set for MONK 3\n",
      "              precision    recall  f1-score   support\n",
      "\n",
      "           0       0.94      1.00      0.97       204\n",
      "           1       1.00      0.95      0.97       228\n",
      "\n",
      "    accuracy                           0.97       432\n",
      "   macro avg       0.97      0.97      0.97       432\n",
      "weighted avg       0.97      0.97      0.97       432\n",
      "\n"
     ]
    }
   ],
   "source": [
    "grid_search_svm_monk()"
   ]
  }
 ],
 "metadata": {
  "kernelspec": {
   "display_name": "Python 3",
   "language": "python",
   "name": "python3"
  },
  "language_info": {
   "codemirror_mode": {
    "name": "ipython",
    "version": 3
   },
   "file_extension": ".py",
   "mimetype": "text/x-python",
   "name": "python",
   "nbconvert_exporter": "python",
   "pygments_lexer": "ipython3",
   "version": "3.10.7"
  }
 },
 "nbformat": 4,
 "nbformat_minor": 2
}
