{
 "cells": [
  {
   "cell_type": "code",
   "execution_count": 124,
   "metadata": {},
   "outputs": [],
   "source": [
    "import pandas as pd\n",
    "import numpy as np\n",
    "import matplotlib.pyplot as plt\n",
    "from sklearn.utils import shuffle\n",
    "from sklearn.metrics import ConfusionMatrixDisplay, confusion_matrix\n",
    "from sklearn.base import BaseEstimator\n",
    "from utilities.metrics import get_metric_evaluator"
   ]
  },
  {
   "cell_type": "code",
   "execution_count": 125,
   "metadata": {},
   "outputs": [],
   "source": [
    "# Datasets Path\n",
    "TR_PATH = \"./monks/datasets/monks-1.train\"\n",
    "TS_PATH = \"./monks/datasets/monks-1.test\""
   ]
  },
  {
   "cell_type": "code",
   "execution_count": 126,
   "metadata": {},
   "outputs": [],
   "source": [
    "from sklearn.metrics import accuracy_score, precision_score, recall_score, f1_score, confusion_matrix, classification_report\n",
    "\n",
    "def print_classification_metrics(y_true, y_pred):\n",
    "    accuracy = accuracy_score(y_true, y_pred)\n",
    "    precision = precision_score(y_true, y_pred, average='weighted')\n",
    "    recall = recall_score(y_true, y_pred, average='weighted')\n",
    "    f1 = f1_score(y_true, y_pred, average='weighted')\n",
    "    print(f\"Accuracy: {accuracy:.4f}\")\n",
    "    print(f\"Precision: {precision:.4f}\")\n",
    "    print(f\"Recall: {recall:.4f}\")\n",
    "    print(f\"F1 Score: {f1:.4f}\")"
   ]
  },
  {
   "cell_type": "code",
   "execution_count": 127,
   "metadata": {},
   "outputs": [],
   "source": [
    "from collections import Counter\n",
    "\n",
    "class KNN(BaseEstimator):\n",
    "    def __init__(self, k=1, metric=\"manhattan\"):\n",
    "        self.k = k\n",
    "        self.metric_evaluator = get_metric_evaluator(metric)\n",
    "        self.metric = metric\n",
    "    def fit(self, X, y):\n",
    "        self.X_train = X\n",
    "        self.y_train = y\n",
    "\n",
    "    def predict(self, X):\n",
    "        predictions = []\n",
    "        for row in X:\n",
    "            label = self.closest(row)\n",
    "            predictions.append(label)\n",
    "        return predictions\n",
    "    \n",
    "    def closest(self, row):        \n",
    "        distances = []\n",
    "\n",
    "        for x_train in self.X_train:\n",
    "            distances.append(self.metric_evaluator(row, x_train))\n",
    "\n",
    "        k_indices = np.argsort(distances)[:self.k]\n",
    "        k_nns_labels = []\n",
    "        for i in k_indices:\n",
    "            k_nns_labels.append(self.y_train[i])\n",
    "\n",
    "\n",
    "        results = Counter(k_nns_labels).most_common()\n",
    "        return results[0][0]\n",
    "    \n",
    "    def score(self, X, y):\n",
    "        predictions = self.predict(X)\n",
    "        return np.sum(predictions == y) / len(y)\n",
    "    \n",
    "\n"
   ]
  },
  {
   "cell_type": "code",
   "execution_count": 128,
   "metadata": {},
   "outputs": [],
   "source": [
    "def read_ds(path):\n",
    "  \"\"\"\n",
    "  parse CSV data set and\n",
    "  returns a tuple (input, target)\n",
    "  \"\"\"\n",
    "  df = pd.read_csv(path, sep=\" \", names=['NaN','y','x1','x2','x3','x4','x5','x6','garbage'])\n",
    "  y, df = df['y'], df.drop(columns=['NaN','garbage','y'])\n",
    "  \n",
    "  # One-hot encoding categorical variables\n",
    "  df = pd.get_dummies(df, columns=['x1','x2','x3','x4','x5','x6']).astype('int')\n",
    "\n",
    "  return (df, y)"
   ]
  },
  {
   "cell_type": "code",
   "execution_count": 129,
   "metadata": {},
   "outputs": [],
   "source": [
    "# read training and test set\n",
    "X_train, y_train = read_ds(TR_PATH)\n",
    "X_test,  y_test  = read_ds(TS_PATH)"
   ]
  },
  {
   "cell_type": "code",
   "execution_count": 130,
   "metadata": {},
   "outputs": [
    {
     "name": "stdout",
     "output_type": "stream",
     "text": [
      "<class 'pandas.core.frame.DataFrame'>\n",
      "RangeIndex: 124 entries, 0 to 123\n",
      "Data columns (total 17 columns):\n",
      " #   Column  Non-Null Count  Dtype\n",
      "---  ------  --------------  -----\n",
      " 0   x1_1    124 non-null    int32\n",
      " 1   x1_2    124 non-null    int32\n",
      " 2   x1_3    124 non-null    int32\n",
      " 3   x2_1    124 non-null    int32\n",
      " 4   x2_2    124 non-null    int32\n",
      " 5   x2_3    124 non-null    int32\n",
      " 6   x3_1    124 non-null    int32\n",
      " 7   x3_2    124 non-null    int32\n",
      " 8   x4_1    124 non-null    int32\n",
      " 9   x4_2    124 non-null    int32\n",
      " 10  x4_3    124 non-null    int32\n",
      " 11  x5_1    124 non-null    int32\n",
      " 12  x5_2    124 non-null    int32\n",
      " 13  x5_3    124 non-null    int32\n",
      " 14  x5_4    124 non-null    int32\n",
      " 15  x6_1    124 non-null    int32\n",
      " 16  x6_2    124 non-null    int32\n",
      "dtypes: int32(17)\n",
      "memory usage: 8.4 KB\n"
     ]
    }
   ],
   "source": [
    "X_train.info()"
   ]
  },
  {
   "cell_type": "code",
   "execution_count": 131,
   "metadata": {},
   "outputs": [],
   "source": [
    "from sklearn.model_selection import GridSearchCV, KFold\n",
    "\n",
    "\n",
    "cv = KFold(n_splits=5, shuffle=True, random_state=7)\n",
    "param_grid = {\n",
    "    \"k\": [1, 3, 5, 7, 9, 11, 13, 15, 20, 30, 50],\n",
    "    \"metric\": [\"euclidean\", \"manhattan\", \"chebyshev\", \"minkowski\",\"cosine\"],\n",
    "}\n",
    "grid = GridSearchCV(KNN(), param_grid, cv=cv, n_jobs=-1)\n"
   ]
  },
  {
   "cell_type": "code",
   "execution_count": 132,
   "metadata": {},
   "outputs": [
    {
     "name": "stdout",
     "output_type": "stream",
     "text": [
      "{'k': 3, 'metric': 'euclidean'}\n"
     ]
    }
   ],
   "source": [
    "grid_result = grid.fit(X_train.values, y_train.values)\n",
    "knn = grid_result.best_estimator_\n",
    "print(knn.get_params())"
   ]
  },
  {
   "cell_type": "code",
   "execution_count": 133,
   "metadata": {},
   "outputs": [
    {
     "name": "stdout",
     "output_type": "stream",
     "text": [
      "Training\n",
      "Accuracy: 0.9113\n",
      "Precision: 0.9123\n",
      "Recall: 0.9113\n",
      "F1 Score: 0.9112\n",
      "Testing\n",
      "Accuracy: 0.7917\n",
      "Precision: 0.7918\n",
      "Recall: 0.7917\n",
      "F1 Score: 0.7916\n"
     ]
    }
   ],
   "source": [
    "#test_pred_knn_und = knn.predict(X_test)\n",
    "print(\"Training\")\n",
    "print_classification_metrics(y_train,knn.predict(X_train.values))\n",
    "print(\"Testing\")\n",
    "print_classification_metrics(y_test,knn.predict(X_test.values))\n"
   ]
  },
  {
   "cell_type": "code",
   "execution_count": 136,
   "metadata": {},
   "outputs": [
    {
     "name": "stdout",
     "output_type": "stream",
     "text": [
      "KNN Assessment: 0.9112903225806451\n"
     ]
    },
    {
     "data": {
      "image/png": "[encoded data removed]",
      "text/plain": [
       "<Figure size 640x480 with 2 Axes>"
      ]
     },
     "metadata": {},
     "output_type": "display_data"
    }
   ],
   "source": [
    "# Tr Confusion Matrix\n",
    "print(\"KNN Assessment: \" + str(knn.score(X_train.values, y_train.values)))\n",
    "\n",
    "predictions = knn.predict(X_train.values)\n",
    "cm = confusion_matrix(y_train.values, predictions)\n",
    "disp = ConfusionMatrixDisplay(confusion_matrix=cm)\n",
    "disp.plot()\n",
    "plt.show()\n"
   ]
  },
  {
   "cell_type": "code",
   "execution_count": 135,
   "metadata": {},
   "outputs": [
    {
     "name": "stdout",
     "output_type": "stream",
     "text": [
      "KNN Assessment: 0.7916666666666666\n"
     ]
    },
    {
     "data": {
      "image/png": "[encoded data removed]",
      "text/plain": [
       "<Figure size 640x480 with 2 Axes>"
      ]
     },
     "metadata": {},
     "output_type": "display_data"
    }
   ],
   "source": [
    "# Test\n",
    "print(\"KNN Assessment: \" + str(knn.score(X_test.values, y_test.values)))\n",
    "\n",
    "# Ts Confusion Matrix\n",
    "predictions = knn.predict(X_test.values)\n",
    "cm = confusion_matrix(y_test, predictions)\n",
    "disp = ConfusionMatrixDisplay(confusion_matrix=cm)\n",
    "disp.plot()\n",
    "plt.show()"
   ]
  }
 ],
 "metadata": {
  "kernelspec": {
   "display_name": "ML",
   "language": "python",
   "name": "python3"
  },
  "language_info": {
   "codemirror_mode": {
    "name": "ipython",
    "version": 3
   },
   "file_extension": ".py",
   "mimetype": "text/x-python",
   "name": "python",
   "nbconvert_exporter": "python",
   "pygments_lexer": "ipython3",
   "version": "3.10.7"
  },
  "vscode": {
   "interpreter": {
    "hash": "ca81cce83a162b5f4a5d747c8d97a71872a701a68cdc138d0312323614df47fd"
   }
  }
 },
 "nbformat": 4,
 "nbformat_minor": 2
}
