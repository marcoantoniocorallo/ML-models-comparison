{
 "cells": [
  {
   "cell_type": "code",
   "execution_count": 1,
   "metadata": {},
   "outputs": [
    {
     "name": "stdout",
     "output_type": "stream",
     "text": [
      "WARNING:tensorflow:From c:\\Users\\given\\AppData\\Local\\Programs\\Python\\Python310\\lib\\site-packages\\keras\\src\\losses.py:2976: The name tf.losses.sparse_softmax_cross_entropy is deprecated. Please use tf.compat.v1.losses.sparse_softmax_cross_entropy instead.\n",
      "\n"
     ]
    }
   ],
   "source": [
    "import pandas as pd\n",
    "import numpy as np\n",
    "from sklearn.model_selection import GridSearchCV\n",
    "from cup_helpers import read_ds\n",
    "from sklearn.model_selection import train_test_split\n",
    "from numpy import mean\n",
    "from sklearn.metrics import make_scorer\n",
    "import tensorflow as tf\n",
    "from cup_helpers import SEED\n",
    "from sklearn.model_selection import KFold\n",
    "from sklearn.linear_model import LinearRegression\n",
    "from sklearn.linear_model import Lasso\n",
    "from sklearn.linear_model import Ridge\n",
    "from sklearn.neighbors import KNeighborsRegressor\n",
    "from sklearn.ensemble import RandomForestRegressor\n",
    "from sklearn.svm import SVR\n",
    "from sklearn.multioutput import MultiOutputRegressor\n",
    "\n",
    "\n",
    "#the TR/VALIDATION and your internal TEST errors, in the original scale i.e. MEE for the 2023 cup (see next slides)."
   ]
  },
  {
   "cell_type": "code",
   "execution_count": 2,
   "metadata": {},
   "outputs": [],
   "source": [
    "# Datasets Path\n",
    "TR_PATH = \"./data/ML-CUP23-TR.csv\"\n",
    "TS_PATH = \"./data/ML-CUP23-TS.csv\""
   ]
  },
  {
   "cell_type": "code",
   "execution_count": 3,
   "metadata": {},
   "outputs": [],
   "source": [
    "(X,y) = read_ds(TR_PATH)"
   ]
  },
  {
   "cell_type": "code",
   "execution_count": 4,
   "metadata": {},
   "outputs": [],
   "source": [
    "cv_strategy = KFold(n_splits=5, random_state=42, shuffle=True)"
   ]
  },
  {
   "cell_type": "code",
   "execution_count": 5,
   "metadata": {},
   "outputs": [],
   "source": [
    "# Train/internal test\n",
    "X_train, X_test, y_train, y_test = train_test_split(X, y, test_size=0.20, random_state=SEED)"
   ]
  },
  {
   "cell_type": "code",
   "execution_count": 6,
   "metadata": {},
   "outputs": [],
   "source": [
    "#custom mee metric\n",
    "def mee(y_true,y_pred):\n",
    "      if type(y_true) != tf.Tensor:\n",
    "        y_true = np.array(y_true.astype(float))\n",
    "      if type(y_pred) != tf.Tensor:\n",
    "        y_pred = np.array(y_pred.astype(float))\n",
    "\n",
    "      if y_true.ndim > 1:\n",
    "          l2_norms = np.linalg.norm(np.subtract(y_pred, y_true), axis=1)\n",
    "          return mean(l2_norms, axis=0)\n",
    "      else:\n",
    "          l2_norms = []\n",
    "          for p in range(len(y_true)):\n",
    "                l2_norms.append(np.linalg.norm(np.subtract(y_pred[p], y_true[p])))\n",
    "          return mean(l2_norms)\n",
    "      \n",
    "custom_scores = {\n",
    "    \"mee\": make_scorer(mee, greater_is_better=False),\n",
    "}"
   ]
  },
  {
   "cell_type": "code",
   "execution_count": 7,
   "metadata": {},
   "outputs": [],
   "source": [
    "# Function extracting each grid from dictionary of grids\n",
    "def list_grids(grids_dict):\n",
    "    return [grids_dict[item] for item in grids_dict]"
   ]
  },
  {
   "cell_type": "code",
   "execution_count": 8,
   "metadata": {},
   "outputs": [],
   "source": [
    "GRID_SVR = {\n",
    "  \"linear_rbf_sigmoid\": {\n",
    "   \"estimator__kernel\": ['linear','rbf','sigmoid'],\n",
    "   \"estimator__C\":[0.0001, 0.1, 10, 10000],\n",
    "   \"estimator__gamma\" : ['scale', 'auto',1e-4,1e-1,1e1,1e4],\n",
    "   \"estimator__tol\": [1e-4, 1e-8, 1e-2, 1e-1],\n",
    "   \"estimator__epsilon\":[1e-4,1e-1,1e1,1e4],\n",
    "   \"estimator__max_iter\": [10000]\n",
    "\n",
    "  },\n",
    "  \"poly\": {\n",
    "    \"estimator__kernel\": ['poly'],\n",
    "    \"estimator__kernel\": ['poly'],\n",
    "    \"estimator__C\": [0.0001, 0.1, 10, 10000],\n",
    "    \"estimator__degree\": [2, 3, 5, 7, 9],\n",
    "    \"estimator__gamma\": ['scale', 'auto', 0.0001, 0.1, 10, 10000],\n",
    "    \"estimator__tol\": [0.0001, 1e-8, 0.01, 0.1],\n",
    "    \"estimator__epsilon\": [0.0001, 0.1, 10, 10000],\n",
    "    \"estimator__max_iter\": [10000],\n",
    "  }\n",
    "}\n",
    "\n",
    "\n",
    "GRID_LINEAR_REGRESSION = {\"unique_entry\": {\"fit_intercept\": [True]}}\n",
    "\n",
    "GRID_LASSO = {\n",
    "    \"cyclic_selec\": {\n",
    "        \"selection\": [\"cyclic\"],\n",
    "        \"alpha\": [0.0001, 0.1, 10.0, 10000.0],\n",
    "        \"positive\": [False, True]\n",
    "    },\n",
    "    \"random_selec\": {\n",
    "        \"selection\": [\"random\"],\n",
    "        \"alpha\": [0.0001, 0.1, 10.0, 10000.0],\n",
    "        \"positive\": [False, True],\n",
    "        \"random_state\": [SEED],\n",
    "    }\n",
    "}\n",
    "\n",
    "GRID_RIDGE = {\n",
    "    \"others\": {\n",
    "        \"solver\": ['saga', 'svd', 'lsqr', 'sag', 'sparse_cg', 'cholesky'],\n",
    "        \"alpha\": [0.0001, 0.1, 10.0, 10000.0],\n",
    "    },\n",
    "    \"lbfgs_positive\": {\n",
    "        \"solver\": ['lbfgs'],\n",
    "        \"alpha\": [0.0001, 0.1, 10.0, 10000.0],\n",
    "        \"positive\": [True]\n",
    "    },\n",
    "    \"sag_saga\": {\n",
    "        \"solver\": ['sag', 'saga'],\n",
    "        \"alpha\": [0.0001, 0.1, 10.0, 10000.0],\n",
    "        \"random_state\": [SEED],\n",
    "    }\n",
    "}\n",
    "\n",
    "GRID_KNR = {\n",
    "     \"unique_entry\":{\n",
    "     'n_neighbors': [5, 10, 15,20, 40, 60, 100,150, 200],\n",
    "     'p' : [1,2,10,1000,100000],\n",
    "     'algorithm' : ['auto', 'ball_tree', 'kd_tree', 'brute'], \n",
    "     'metric' : ['euclidean', 'minkowski'], \n",
    "     'weights' : ['distance', 'uniform'] \n",
    "}\n",
    "}\n",
    "GRID_RFR = {\n",
    "\n",
    "    \"unique_entry\":{\n",
    "        'n_estimators': [90,85,90,95],\n",
    "        'criterion' : ['absolute_error','friedman_mse', 'squared_error'],\n",
    "        'max_depth' : [8,7,8,9],  \n",
    "        'min_samples_split': [4,6], \n",
    "        'min_samples_leaf': [1],\n",
    "        'min_weight_fraction_leaf': [0,0.001], \n",
    "        'ccp_alpha' : [0.001, 0.002] \n",
    "    }\n",
    "}\n",
    "\n",
    "params_map = {\n",
    "    \"SVR\": GRID_SVR,\n",
    "    \"linear_regression\":GRID_LINEAR_REGRESSION,\n",
    "    \"lasso_regression\":GRID_LASSO,\n",
    "    \"ridge_regression\":GRID_RIDGE,\n",
    "    \"knr\":GRID_KNR,\n",
    "    \"rfr\":GRID_RFR\n",
    "    }"
   ]
  },
  {
   "cell_type": "code",
   "execution_count": 9,
   "metadata": {},
   "outputs": [],
   "source": [
    "def execute_gridesearch(X, y, model, model_name):\n",
    "  cv = cv_strategy.split(X)\n",
    "  params = params_map[model_name]\n",
    "  params = list_grids(params)\n",
    "  grid = GridSearchCV(model, params,scoring=custom_scores,refit=\"mee\", cv= cv,n_jobs=-1,return_train_score=True).fit(X, y)\n",
    "  results = pd.DataFrame(grid.cv_results_)\n",
    "  print(\"mean validation error\",abs(results.loc[grid.best_index_,\"mean_test_mee\"]))\n",
    "  print(\"std validation error\",abs(results.loc[grid.best_index_,\"std_test_mee\"]))\n",
    "  print(\"mean\",abs(results.loc[grid.best_index_,\"mean_train_mee\"]))\n",
    "  print(\"std\",abs(results.loc[grid.best_index_,\"std_train_mee\"]))\n",
    "  return grid\n",
    "\n"
   ]
  },
  {
   "cell_type": "code",
   "execution_count": 10,
   "metadata": {},
   "outputs": [],
   "source": [
    "\n",
    "def do_sklearn_GridSearchCV(X,y,X_test,y_test,model,model_name):\n",
    "    print(\"Model Used: \" + model_name)\n",
    "    grid = execute_gridesearch(X, y, model, model_name)\n",
    "    print(\"Model used: \" + model_name + \", best parameters: \" + str(grid.best_params_) )\n",
    "    y_pred = grid.best_estimator_.predict(X_test)\n",
    "    print(\"Execution time: \" + str(grid.refit_time_) + \" seconds\")\n",
    "    print(\"Test MEE:\", mee(y_test, y_pred))\n",
    "    print(\"------------------------------------------------------------------------------------------------------\")\n"
   ]
  },
  {
   "cell_type": "code",
   "execution_count": 11,
   "metadata": {},
   "outputs": [],
   "source": [
    "def grid_search_model(model,model_name,X_train,y_train,X_test,y_test):\n",
    "    do_sklearn_GridSearchCV(X_train,y_train,X_test,y_test,model,model_name)"
   ]
  },
  {
   "cell_type": "markdown",
   "metadata": {},
   "source": [
    "# SVR"
   ]
  },
  {
   "cell_type": "code",
   "execution_count": null,
   "metadata": {},
   "outputs": [],
   "source": [
    "grid_search_model(MultiOutputRegressor(SVR()),\"SVR\",X_train,y_train,X_test,y_test)"
   ]
  },
  {
   "cell_type": "markdown",
   "metadata": {},
   "source": [
    "# Linear Regression"
   ]
  },
  {
   "cell_type": "markdown",
   "metadata": {},
   "source": [
    "## Linear regression without regularization"
   ]
  },
  {
   "cell_type": "code",
   "execution_count": null,
   "metadata": {},
   "outputs": [],
   "source": [
    "grid_search_model(LinearRegression(),\"linear_regression\",X_train,y_train,X_test,y_test)"
   ]
  },
  {
   "cell_type": "markdown",
   "metadata": {},
   "source": [
    "## Linear regression with L1 regularization"
   ]
  },
  {
   "cell_type": "code",
   "execution_count": null,
   "metadata": {},
   "outputs": [],
   "source": [
    "grid_search_model(Lasso(),\"lasso_regression\",X_train,y_train,X_test,y_test)"
   ]
  },
  {
   "cell_type": "markdown",
   "metadata": {},
   "source": [
    "## Linear regression with L2 regularization (Thikonov regularization)"
   ]
  },
  {
   "cell_type": "code",
   "execution_count": null,
   "metadata": {},
   "outputs": [],
   "source": [
    "grid_search_model(Ridge(),\"ridge_regression\",X_train,y_train,X_test,y_test)"
   ]
  },
  {
   "cell_type": "markdown",
   "metadata": {},
   "source": [
    "# KNR"
   ]
  },
  {
   "cell_type": "code",
   "execution_count": null,
   "metadata": {},
   "outputs": [],
   "source": [
    "grid_search_model(KNeighborsRegressor(),\"knr\",X_train,y_train,X_test,y_test)"
   ]
  },
  {
   "cell_type": "markdown",
   "metadata": {},
   "source": [
    "# RFR CV"
   ]
  },
  {
   "cell_type": "code",
   "execution_count": null,
   "metadata": {},
   "outputs": [],
   "source": [
    "grid_search_model(RandomForestRegressor(),\"rfr\",X_train,y_train,X_test,y_test)"
   ]
  }
 ],
 "metadata": {
  "kernelspec": {
   "display_name": "base",
   "language": "python",
   "name": "python3"
  },
  "language_info": {
   "codemirror_mode": {
    "name": "ipython",
    "version": 3
   },
   "file_extension": ".py",
   "mimetype": "text/x-python",
   "name": "python",
   "nbconvert_exporter": "python",
   "pygments_lexer": "ipython3",
   "version": "3.11.7"
  }
 },
 "nbformat": 4,
 "nbformat_minor": 2
}
