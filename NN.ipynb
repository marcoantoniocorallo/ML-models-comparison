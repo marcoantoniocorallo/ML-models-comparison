{
 "cells": [
  {
   "cell_type": "code",
   "execution_count": 215,
   "metadata": {},
   "outputs": [],
   "source": [
    "import pandas as pd\n",
    "import numpy as np\n",
    "import matplotlib.pyplot as plt\n",
    "from sklearn.metrics import ConfusionMatrixDisplay, confusion_matrix\n",
    "import torch\n",
    "import torch.nn as nn\n",
    "import torch\n",
    "from torch import nn\n",
    "from sklearn.model_selection import KFold\n",
    "from itertools import product\n",
    "from monk_helpers import CV,SEED\n",
    "import matplotlib.pyplot as plt\n",
    "import multiprocess\n",
    "from sklearn.metrics import accuracy_score, classification_report\n",
    "\n"
   ]
  },
  {
   "cell_type": "markdown",
   "metadata": {},
   "source": [
    "Create reproducible results"
   ]
  },
  {
   "cell_type": "code",
   "execution_count": 216,
   "metadata": {},
   "outputs": [],
   "source": [
    "torch.manual_seed(SEED)\n",
    "np.random.seed(SEED)\n",
    "gen = torch.Generator().manual_seed(SEED)\n"
   ]
  },
  {
   "cell_type": "code",
   "execution_count": 217,
   "metadata": {},
   "outputs": [
    {
     "name": "stdout",
     "output_type": "stream",
     "text": [
      "Number of cpu :  8\n"
     ]
    }
   ],
   "source": [
    "num_processes = multiprocess.cpu_count()\n",
    "\n",
    "print(\"Number of cpu : \", num_processes)\n",
    "pool = multiprocess.Pool(processes=num_processes - 4)"
   ]
  },
  {
   "cell_type": "code",
   "execution_count": 218,
   "metadata": {},
   "outputs": [],
   "source": [
    "# Datasets Path\n",
    "TR_PATH_1 = \"./monks/datasets/monks-1.train\"\n",
    "TS_PATH_1 = \"./monks/datasets/monks-1.test\"\n",
    "# Datasets Path\n",
    "TR_PATH_2 = \"./monks/datasets/monks-2.train\"\n",
    "TS_PATH_2 = \"./monks/datasets/monks-2.test\"\n",
    "# Datasets Path\n",
    "TR_PATH_3 = \"./monks/datasets/monks-3.train\"\n",
    "TS_PATH_3 = \"./monks/datasets/monks-3.test\""
   ]
  },
  {
   "cell_type": "code",
   "execution_count": 219,
   "metadata": {},
   "outputs": [],
   "source": [
    "\n",
    "def plot_graph(train_losses,validation_losses,epochs,title):\n",
    "    num_epochs = list(range(1, epochs + 2))  \n",
    "    # Plotting\n",
    "    plt.plot(num_epochs, train_losses, label='Training Loss')\n",
    "    plt.plot(num_epochs, validation_losses, label=title+'Loss')\n",
    "\n",
    "    plt.title('Training and'+title+'Losses Across Epochs')\n",
    "    plt.xlabel('Epochs')\n",
    "    plt.ylabel('Loss')\n",
    "    plt.legend()\n",
    "    plt.show()"
   ]
  },
  {
   "cell_type": "code",
   "execution_count": 220,
   "metadata": {},
   "outputs": [],
   "source": [
    "class Net(nn.Module):\n",
    "\n",
    "  def __init__(self, input_size, units, output_size,):\n",
    "    super().__init__()\n",
    "    self.units = units\n",
    "\n",
    "    self.l1 = nn.Linear(input_size, units)\n",
    "    self.l2 = nn.Linear(units, output_size)\n",
    "\n",
    "  def forward(self, x):\n",
    "    out = torch.tanh(self.l1(x))\n",
    "    out = torch.sigmoid(self.l2(out))\n",
    "    return out\n",
    "\n",
    "\n",
    "def reset_weights(net):\n",
    "  for param in net.parameters():\n",
    "    torch.nn.init.uniform_(param, a=-0.7, b=0.7)"
   ]
  },
  {
   "cell_type": "code",
   "execution_count": 221,
   "metadata": {},
   "outputs": [],
   "source": [
    "def read_ds(path):\n",
    "  \"\"\"\n",
    "  parse CSV data set and\n",
    "  returns a tuple (input, target)\n",
    "  \"\"\"\n",
    "  names = ['class', 'a1', 'a2', 'a3', 'a4', 'a5', 'a6', 'id']\n",
    "  data = pd.read_csv(path, dtype=object, delim_whitespace=True, header=None, skipinitialspace=True, names=names)\n",
    "\n",
    "  X = data.drop(['class','id'], axis=1)\n",
    "  X = pd.get_dummies(X).astype(float).to_numpy()\n",
    "  y = data.drop(['a1', 'a2', 'a3', 'a4', 'a5', 'a6', 'id'], axis=1)\n",
    "  y = y.astype(float).to_numpy()\n",
    "\n",
    "\n",
    "  return np.concatenate((y, X), axis=1)"
   ]
  },
  {
   "cell_type": "code",
   "execution_count": 222,
   "metadata": {},
   "outputs": [],
   "source": [
    "class ToleranceStopper:\n",
    "  def __init__(self, patience=1, min_delta=0):\n",
    "    self.patience = patience\n",
    "    self.min_delta = min_delta\n",
    "    self.counter = 0\n",
    "    self.min_training_loss = np.inf\n",
    "\n",
    "  def tol_stop(self, training_loss):\n",
    "    if training_loss > (self.min_training_loss - self.min_delta):\n",
    "      self.counter +=1\n",
    "      if self.counter >= self.patience:\n",
    "        return True\n",
    "    else: \n",
    "      self.counter = 0\n",
    "    if training_loss < self.min_training_loss:\n",
    "      self.min_training_loss = training_loss\n",
    "    \n",
    "    return False"
   ]
  },
  {
   "cell_type": "code",
   "execution_count": 223,
   "metadata": {},
   "outputs": [],
   "source": [
    "def fit_model(input_size,hidden_size,output_size,learning_rate,momentum,weight_decay,opt,epochs,trainloader,loss_function,testloader):\n",
    "    # Init the neural network\n",
    "    network = Net(input_size, hidden_size, output_size)\n",
    "    network.apply(reset_weights) #reset weights with random initialization\n",
    "    # Use the GPU, if possible\n",
    "    device = \"cpu\"\n",
    "    if torch.cuda.is_available():\n",
    "      device = \"cuda:0\"\n",
    "      if torch.cuda.device_count() > 1:\n",
    "        network = nn.DataParallel(network)\n",
    "    network.to(device)\n",
    "\n",
    "    # Initialize optimizer\n",
    "    if (opt.__name__ == \"RMSprop\") or (opt.__name__ == \"SGD\"):\n",
    "      optimizer = opt(network.parameters(), lr=learning_rate, momentum=momentum, weight_decay=weight_decay)\n",
    "    else:\n",
    "      optimizer = opt(network.parameters(), lr=learning_rate, weight_decay=weight_decay)\n",
    "\n",
    "    \n",
    "    train_losses = []\n",
    "    test_losses = []\n",
    "\n",
    "    tolerance_stopper = ToleranceStopper(patience=20, min_delta=1e-4)\n",
    "\n",
    "    # Run the training loop for defined number of epochs\n",
    "    for epoch in range(0, epochs):\n",
    "\n",
    "      # Print epoch\n",
    "      print(f'Starting epoch {epoch+1}')\n",
    "\n",
    "      # Set current loss and accuracy value for train\n",
    "      train_loss = 0.0\n",
    "      epoch_train_accuracy = []\n",
    "\n",
    "\n",
    "      # Set current loss and accuracy value for test\n",
    "      test_loss = 0.0\n",
    "      epoch_test_accuracy = []\n",
    "\n",
    "      # Iterate over the DataLoader for training data\n",
    "      for i, data in enumerate(trainloader, 0):\n",
    "        # Get inputs\n",
    "        inputs = data[:, 1:].to(torch.float32).to(device)\n",
    "        targets = data[:, [0]].to(torch.float32).to(device)\n",
    "\n",
    "        # Zero the gradients\n",
    "        optimizer.zero_grad() \n",
    "\n",
    "        \n",
    "        # Perform forward pass\n",
    "        outputs = network(inputs)\n",
    "\n",
    "        # Compute loss\n",
    "        loss = loss_function(outputs, targets)\n",
    "        \n",
    "        # Perform backward pass\n",
    "        loss.backward()\n",
    "        \n",
    "        # Perform optimization\n",
    "        optimizer.step()\n",
    "        \n",
    "        # Print statistics\n",
    "        train_loss += loss.item() * inputs.size(0)\n",
    "      # Print loss values\n",
    "      epoch_train_loss = train_loss / len(trainloader.sampler)    \n",
    "      train_losses.append(epoch_train_loss)\n",
    "      # Update accuracy\n",
    "      for output, target in zip(outputs, targets):\n",
    "        output = 0 if output.item() < 0.5 else 1\n",
    "        if output == target.item():\n",
    "          epoch_train_accuracy.append(1)\n",
    "        else:\n",
    "          epoch_train_accuracy.append(0)\n",
    "      \n",
    "      with torch.no_grad():\n",
    "        # Iterate over the testing data and generate predictions\n",
    "        for i, data in enumerate(testloader, 0):\n",
    "\n",
    "          inputs = data[:, 1:].to(torch.float32).to(device)\n",
    "          targets = data[:, [0]].to(torch.float32).to(device)\n",
    "        \n",
    "          outputs = network(inputs)\n",
    "\n",
    "          loss = loss_function(outputs, targets)\n",
    "          \n",
    "          test_loss += loss.item() * inputs.size(0)\n",
    "\n",
    "        epoch_test_loss = test_loss / len(testloader.sampler)    \n",
    "        test_losses.append(epoch_test_loss)\n",
    "\n",
    "        # Update accuracy\n",
    "        for output, target in zip(outputs, targets):\n",
    "          output = 0 if output.item() < 0.5 else 1\n",
    "          if output == target.item():\n",
    "            epoch_test_accuracy.append(1)\n",
    "          else:\n",
    "            epoch_test_accuracy.append(0)\n",
    "        print(epoch_test_loss)\n",
    "        if tolerance_stopper.tol_stop(epoch_test_loss):\n",
    "          print(\"Early stopping: \",epoch)\n",
    "          break\n",
    "\n",
    "    plot_graph(train_losses,test_losses,epoch,\"test\")\n",
    "    return network\n"
   ]
  },
  {
   "cell_type": "code",
   "execution_count": 224,
   "metadata": {},
   "outputs": [],
   "source": [
    "def k_fold_model(input_size,hidden_size,output_size,learning_rate,momentum,weight_decay,opt,epochs,trainloader,loss_function,validationloader,l1_lambda=0):\n",
    "    \n",
    "    # Init the neural network\n",
    "    network = Net(input_size, hidden_size, output_size)\n",
    "    network.apply(reset_weights) #reset weights with random initialization\n",
    "    \n",
    "    optimizer = torch.optim.SGD(network.parameters(), lr=learning_rate, momentum=momentum, weight_decay=weight_decay)\n",
    "    # Initialize optimizer\n",
    "    '''if (opt.__name__ == \"RMSprop\") or (opt.__name__ == \"SGD\"):\n",
    "      optimizer = opt(network.parameters(), lr=learning_rate, momentum=momentum, weight_decay=weight_decay)\n",
    "    else:\n",
    "      optimizer = opt(network.parameters(), lr=learning_rate, weight_decay=weight_decay)'''\n",
    "\n",
    "    tolerance_stopper = ToleranceStopper(patience=20, min_delta=1e-4)\n",
    "    train_losses = []\n",
    "    validaition_losses = []\n",
    "    # Run the training loop for defined number of epochs\n",
    "    for epoch in range(0, epochs):\n",
    "\n",
    "      # Print epoch\n",
    "      #print(f'Starting epoch {epoch+1}')\n",
    "\n",
    "      # Set current loss value\n",
    "      train_loss = 0.0\n",
    "      # Iterate over the DataLoader for training data\n",
    "      for i, data in enumerate(trainloader, 0):\n",
    "        # Get inputs\n",
    "        inputs = data[:, 1:].to(torch.float32)\n",
    "        targets = data[:, [0]].to(torch.float32)\n",
    "\n",
    "        # Zero the gradients\n",
    "        optimizer.zero_grad() \n",
    "        \n",
    "        # Perform forward pass\n",
    "        outputs = network(inputs)\n",
    "\n",
    "        # Compute loss\n",
    "        loss = loss_function(outputs, targets)\n",
    "        if(l1_lambda > 0):\n",
    "          l1_norm = sum(torch.linalg.norm(p, 1) for p in network.parameters())\n",
    "          loss = loss + l1_lambda * l1_norm\n",
    "        # Perform backward pass\n",
    "        loss.backward()\n",
    "        \n",
    "        # Perform optimization\n",
    "        optimizer.step()\n",
    "        \n",
    "        # Print statistics\n",
    "        train_loss += loss.item() * inputs.size(0)\n",
    "\n",
    "        #print(\"loss per item\", loss.item())\n",
    "        #print(\"inputs size\",inputs.size(0))\n",
    "\n",
    "        # Print loss values\n",
    "      #print(\"train loaders length\",len(trainloader.sampler.indices))\n",
    "\n",
    "      epoch_train_loss = train_loss / len(trainloader.sampler)    \n",
    "      train_losses.append(epoch_train_loss) \n",
    "      #print(f'Training loss: {avg_train_loss}')\n",
    "      # Print about testing\n",
    "      #print('Starting validation')\n",
    "\n",
    "      # Evaluationfor this fold\n",
    "      valid_loss = 0.0 \n",
    "      with torch.no_grad():\n",
    "        # Iterate over the validation data and generate predictions\n",
    "        for i, data in enumerate(validationloader, 0):\n",
    "\n",
    "          # Get inputs\n",
    "          inputs = data[:, 1:].to(torch.float32)\n",
    "          targets = data[:, [0]].to(torch.float32)\n",
    "          \n",
    "          # Generate outputs\n",
    "          outputs = network(inputs)\n",
    "\n",
    "          loss = loss_function(outputs, targets)\n",
    "\n",
    "          # Calculate loss\n",
    "          valid_loss += loss.item() * inputs.size(0)\n",
    "          #print(\"loss per item\", loss.item())\n",
    "          #print(\"inputs size\",inputs.size(0))\n",
    "        \n",
    "        #print(\"validation loaders length\",len(validationloader.sampler.indices))\n",
    "\n",
    "        avg_valid_loss = valid_loss / len(validationloader.sampler) #used to find the best parameters of the model\n",
    "        validaition_losses.append(avg_valid_loss)\n",
    "        # Early stopping\n",
    "        if tolerance_stopper.tol_stop(avg_valid_loss):\n",
    "          print(\"Early stopping:\", epoch)\n",
    "          break\n",
    "        # Print validation results\n",
    "        #print(f'Validation loss: {avg_valid_loss:.4f}')\n",
    "\n",
    "\n",
    "    #plot_graph(train_losses,validaition_losses,epoch,\"validation\")\n",
    "    return avg_valid_loss\n"
   ]
  },
  {
   "cell_type": "code",
   "execution_count": 225,
   "metadata": {},
   "outputs": [],
   "source": [
    "def execute_folds(kfold,dataset,batch_size,input_size, hidden_size, output_size, learning_rate, epochs,\n",
    "    loss_function, momentum, opt, weight_decay,l1_lambda):\n",
    "    gen = torch.Generator().manual_seed(SEED)\n",
    "    \n",
    "    validation_avg_loss_fold = 0\n",
    "    num_iterations = 0\n",
    "    current_config = {\n",
    "        'input_size': input_size,\n",
    "        'hidden_size': hidden_size,\n",
    "        'output_size': output_size,\n",
    "        'learning_rate': learning_rate,\n",
    "        'epochs': epochs,\n",
    "        'momentum': momentum,\n",
    "        'opt': opt,\n",
    "        'weight_decay': weight_decay,\n",
    "        \"batch_size\":batch_size,\n",
    "        \"loss_function\":loss_function\n",
    "    }\n",
    " \n",
    "    for fold, (train_ids, val_ids) in enumerate(kfold.split(np.zeros(len(dataset)),dataset[:, 0])):\n",
    "\n",
    "        # Sample elements randomly from a given list of ids, no replacement.\n",
    "        train_subsampler = torch.utils.data.SubsetRandomSampler(train_ids, gen) \n",
    "        validation_subsampler = torch.utils.data.SubsetRandomSampler(val_ids, gen) \n",
    "        # Print\n",
    "        #print(f'FOLD {fold}')\n",
    "\n",
    "        #print('--------------------------------')\n",
    "        # Define data loaders for training and testing data in this fold\n",
    "        \n",
    "        trainloader = torch.utils.data.DataLoader(\n",
    "                        dataset, \n",
    "                        batch_size=batch_size, sampler=train_subsampler)\n",
    "        validationloader = torch.utils.data.DataLoader(\n",
    "                        dataset,\n",
    "                        batch_size=batch_size, sampler=validation_subsampler)    \n",
    "        \n",
    "\n",
    "        validation_loss = k_fold_model(learning_rate=learning_rate,epochs=epochs,hidden_size=hidden_size,input_size=input_size,loss_function=loss_function,momentum=momentum\n",
    "                                                    ,opt=opt,output_size=output_size,trainloader=trainloader,weight_decay=weight_decay,validationloader=validationloader,l1_lambda = l1_lambda)   \n",
    "        validation_avg_loss_fold  += validation_loss\n",
    "        num_iterations += 1\n",
    "\n",
    "\n",
    "    #validation average over all folds\n",
    "    validation_avg_loss_fold /= num_iterations\n",
    "    \n",
    "    return (validation_avg_loss_fold, current_config)"
   ]
  },
  {
   "cell_type": "markdown",
   "metadata": {},
   "source": [
    "function that executes the folds for each combination of parameters"
   ]
  },
  {
   "cell_type": "code",
   "execution_count": 226,
   "metadata": {},
   "outputs": [],
   "source": [
    "def dogridsearch(dataset_train_part,params_grid,output_size,input_size):\n",
    "    \n",
    "    dataset = dataset_train_part\n",
    "    # Set fixed random number seed\n",
    "    loss_function = nn.MSELoss()\n",
    "\n",
    "    # Define the K-fold Cross Validator\n",
    "    kfold = CV \n",
    "    \n",
    "    # K-fold Cross Validation model evaluation\n",
    "    best_params = None\n",
    "\n",
    "    actual_it = 0\n",
    "    total_iterations = len(params_grid[\"epochs\"]) * len(params_grid[\"optimizer\"]) * len(params_grid[\"hidden_size\"]) * len(params_grid[\"learning_rate\"]) * len(params_grid[\"batch_size\"]) * len(params_grid[\"weight_decay\"]) * len(params_grid[\"momentum\"]) * len(params_grid[\"l1_lambda\"])\n",
    "\n",
    "\n",
    "    configurations = []\n",
    "\n",
    "    for epochs, opt, hidden_size, learning_rate, batch_size, weight_decay, momentum,l1_lambda in product(params_grid[\"epochs\"],params_grid[\"optimizer\"], params_grid[\"hidden_size\"], params_grid[\"learning_rate\"], params_grid[\"batch_size\"], params_grid[\"weight_decay\"], params_grid[\"momentum\"],params_grid[\"l1_lambda\"]):\n",
    "        #print the actual percentage of the grid search\n",
    "        print(f'Actual iter {(actual_it/total_iterations)*100}%')\n",
    "\n",
    "        (validation_avg_loss_fold, current_config) = execute_folds(kfold=kfold,dataset=dataset,learning_rate=learning_rate,epochs=epochs,hidden_size=hidden_size,input_size=input_size,loss_function=loss_function,momentum=momentum\n",
    "                                                        ,opt=opt,output_size=output_size,weight_decay=weight_decay,batch_size=batch_size,l1_lambda=l1_lambda)\n",
    "\n",
    "\n",
    "        configurations.append((validation_avg_loss_fold, current_config))\n",
    "        \n",
    "        actual_it += 1\n",
    "\n",
    "\n",
    "    #best \n",
    "    for conf_val in configurations:\n",
    "        if best_params is None or conf_val[0] < best_params[0]:\n",
    "                current_config = conf_val[1]\n",
    "                best_params = (conf_val[0]\n",
    "                ,current_config['learning_rate'], current_config['epochs'],current_config[\"loss_function\"],current_config['hidden_size'],current_config['momentum'],current_config['opt'],\n",
    "                current_config['weight_decay'],\n",
    "                current_config['batch_size'])\n",
    "\n",
    "    return best_params"
   ]
  },
  {
   "cell_type": "markdown",
   "metadata": {},
   "source": [
    "test the created model and plot training/test error"
   ]
  },
  {
   "cell_type": "code",
   "execution_count": 227,
   "metadata": {},
   "outputs": [],
   "source": [
    "def train_test_model(dataset_train_part,dataset_test_part,best_params):\n",
    "    train_subsampler = torch.utils.data.SubsetRandomSampler(range(len(dataset_train_part)), gen)\n",
    "\n",
    "    trainloader = torch.utils.data.DataLoader(\n",
    "                        dataset_train_part, \n",
    "                        batch_size=best_params[8], sampler=train_subsampler)\n",
    "\n",
    "    test_subsampler =  torch.utils.data.SubsetRandomSampler(range(len(dataset_test_part)), gen)\n",
    "    testloader = torch.utils.data.DataLoader(\n",
    "                        dataset_test_part, \n",
    "                        batch_size=best_params[8], sampler=test_subsampler)\n",
    "\n",
    "    best_net = fit_model(learning_rate=best_params[1],epochs=best_params[2],hidden_size=best_params[4],input_size=17,loss_function=best_params[3],\n",
    "                        momentum=best_params[5],opt=best_params[6],output_size=1,trainloader=trainloader,weight_decay=best_params[7],testloader=testloader)   \n",
    "    return best_net"
   ]
  },
  {
   "cell_type": "code",
   "execution_count": 228,
   "metadata": {},
   "outputs": [
    {
     "name": "stdout",
     "output_type": "stream",
     "text": [
      "Actual iter 0.0%\n"
     ]
    },
    {
     "name": "stdout",
     "output_type": "stream",
     "text": [
      "Early stopping: 139\n",
      "Early stopping: 75\n",
      "Early stopping: 49\n",
      "Early stopping: 49\n",
      "Early stopping: 49\n"
     ]
    }
   ],
   "source": [
    "input_size = 17  \n",
    "output_size = 1\n",
    "params_grid_general = {\n",
    "    \"hidden_size\": [3, 4, 5],\n",
    "    \"learning_rate\": [0.1,0.4,0.7,0.8],\n",
    "    \"batch_size\": [4,8,12,32],\n",
    "    \"weight_decay\": [0,0.001,0.01],\n",
    "    \"momentum\": [0,0.1,0.4,0.7,0.8],\n",
    "    \"epochs\":[600],\n",
    "    \"optimizer\":[torch.optim.SGD],\n",
    "    \"l1_lambda\":[0]\n",
    "\n",
    "}\n",
    "\n",
    "\n",
    "params_grid = {\n",
    "    \"hidden_size\": [4],\n",
    "    \"learning_rate\": [0.8],\n",
    "    \"batch_size\": [4],\n",
    "    \"weight_decay\": [0],\n",
    "    \"momentum\": [0.5],\n",
    "    \"epochs\":[600],\n",
    "    \"optimizer\":[torch.optim.SGD],\n",
    "    \"l1_lambda\":[0]\n",
    "}\n",
    "    \n",
    "\n",
    "dataset_train_part = read_ds(TR_PATH_1)\n",
    "dataset_test_part = read_ds(TS_PATH_1)\n",
    "\n",
    "dataset = dataset_train_part\n",
    "\n",
    "best_params = dogridsearch(dataset_train_part=dataset_train_part,params_grid=params_grid,output_size=output_size,input_size=input_size)\n",
    "        \n",
    "\n",
    "\n"
   ]
  },
  {
   "cell_type": "markdown",
   "metadata": {},
   "source": [
    "monk 1:\n",
    "Best hidden size: 4 \n",
    "Best learning rate: 0.8 \n",
    "Best batch size: 4 \n",
    "Best weight decay: 0 \n",
    "Best momentum: 0.5\n",
    "(0.0022038360655424185, 0.8, 600, MSELoss(), 4, 0.5, <class 'torch.optim.sgd.SGD'>, 0, 4)"
   ]
  },
  {
   "cell_type": "code",
   "execution_count": 229,
   "metadata": {},
   "outputs": [
    {
     "name": "stdout",
     "output_type": "stream",
     "text": [
      "Best hidden size: 4 \n",
      "Best learning rate: 0.8 \n",
      "Best batch size: 4 \n",
      "Best weight decay: 0 \n",
      "Best momentum: 0.5\n",
      "(0.028025031715800196, 0.8, 600, MSELoss(), 4, 0.5, <class 'torch.optim.sgd.SGD'>, 0, 4)\n"
     ]
    }
   ],
   "source": [
    "#Best parameters found\n",
    "print(f\"Best hidden size: {best_params[4]} \\nBest learning rate: {best_params[1]} \\nBest batch size: {best_params[8]} \\nBest weight decay: {best_params[7]} \\nBest momentum: {best_params[5]}\")\n",
    "\n",
    "print(best_params)"
   ]
  },
  {
   "cell_type": "code",
   "execution_count": 230,
   "metadata": {},
   "outputs": [
    {
     "name": "stdout",
     "output_type": "stream",
     "text": [
      "Starting epoch 1\n",
      "0.18771562397617986\n",
      "Starting epoch 2\n",
      "0.17882693631367552\n",
      "Starting epoch 3\n",
      "0.20418169468434322\n",
      "Starting epoch 4\n",
      "0.18158202733913506\n",
      "Starting epoch 5\n",
      "0.16706302675797982\n",
      "Starting epoch 6\n",
      "0.16068615602260386\n",
      "Starting epoch 7\n",
      "0.12906271182173104\n",
      "Starting epoch 8\n",
      "0.11727332043530489\n",
      "Starting epoch 9\n",
      "0.08385523322202196\n",
      "Starting epoch 10\n",
      "0.03571051161917341\n",
      "Starting epoch 11\n",
      "0.02738522645544166\n",
      "Starting epoch 12\n",
      "0.013674696597667612\n",
      "Starting epoch 13\n",
      "0.008411803061823809\n",
      "Starting epoch 14\n",
      "0.007331474871736848\n",
      "Starting epoch 15\n",
      "0.005803422581973589\n",
      "Starting epoch 16\n",
      "0.005342960880996004\n",
      "Starting epoch 17\n",
      "0.004527187831559719\n",
      "Starting epoch 18\n",
      "0.00418194073211419\n",
      "Starting epoch 19\n",
      "0.0036681532866269764\n",
      "Starting epoch 20\n",
      "0.0031920284953365036\n",
      "Starting epoch 21\n",
      "0.0030075006593337835\n",
      "Starting epoch 22\n",
      "0.002812411798338922\n",
      "Starting epoch 23\n",
      "0.0024891168494899896\n",
      "Starting epoch 24\n",
      "0.0024228821484602696\n",
      "Starting epoch 25\n",
      "0.0022568494155334688\n",
      "Starting epoch 26\n",
      "0.0021155802053356267\n",
      "Starting epoch 27\n",
      "0.0019611248595976104\n",
      "Starting epoch 28\n",
      "0.0018281083129868083\n",
      "Starting epoch 29\n",
      "0.0017505079940241962\n",
      "Starting epoch 30\n",
      "0.0016400803390381581\n",
      "Starting epoch 31\n",
      "0.0015751135980382161\n",
      "Starting epoch 32\n",
      "0.0014991180193006854\n",
      "Starting epoch 33\n",
      "0.0014154380594306902\n",
      "Starting epoch 34\n",
      "0.0013621827371631905\n",
      "Starting epoch 35\n",
      "0.001305394137657627\n",
      "Starting epoch 36\n",
      "0.0012507754409280434\n",
      "Starting epoch 37\n",
      "0.001198816481553001\n",
      "Starting epoch 38\n",
      "0.0011537968387495278\n",
      "Starting epoch 39\n",
      "0.0011205330504001016\n",
      "Starting epoch 40\n",
      "0.0010910742576352615\n",
      "Starting epoch 41\n",
      "0.0010468623269709362\n",
      "Starting epoch 42\n",
      "0.0010064638054582584\n",
      "Starting epoch 43\n",
      "0.0009750716151891673\n",
      "Starting epoch 44\n",
      "0.0009433528489521619\n",
      "Starting epoch 45\n",
      "0.0009188683656652251\n",
      "Starting epoch 46\n",
      "0.0008914381907271929\n",
      "Starting epoch 47\n",
      "0.0008665967673938145\n",
      "Starting epoch 48\n",
      "0.0008414886212483032\n",
      "Starting epoch 49\n",
      "0.0008196749691301698\n",
      "Starting epoch 50\n",
      "0.0007937169524733758\n",
      "Early stopping:  49\n"
     ]
    },
    {
     "data": {
      "image/png": "[encoded data removed]",
      "text/plain": [
       "<Figure size 640x480 with 1 Axes>"
      ]
     },
     "metadata": {},
     "output_type": "display_data"
    }
   ],
   "source": [
    "best_net = train_test_model(dataset_train_part=dataset_train_part,dataset_test_part=dataset_test_part,best_params=best_params)  "
   ]
  },
  {
   "cell_type": "code",
   "execution_count": 231,
   "metadata": {},
   "outputs": [
    {
     "name": "stdout",
     "output_type": "stream",
     "text": [
      "accuracy on test set 1.000\n",
      "              precision    recall  f1-score   support\n",
      "\n",
      "           0       1.00      1.00      1.00       216\n",
      "           1       1.00      1.00      1.00       216\n",
      "\n",
      "    accuracy                           1.00       432\n",
      "   macro avg       1.00      1.00      1.00       432\n",
      "weighted avg       1.00      1.00      1.00       432\n",
      "\n"
     ]
    },
    {
     "data": {
      "image/png": "[encoded data removed]",
      "text/plain": [
       "<Figure size 640x480 with 2 Axes>"
      ]
     },
     "metadata": {},
     "output_type": "display_data"
    },
    {
     "name": "stdout",
     "output_type": "stream",
     "text": [
      "------------------------------------------------------------------------------------------------------\n"
     ]
    }
   ],
   "source": [
    "test_data = torch.from_numpy(dataset_test_part[:, 1:]).to(torch.float32)\n",
    "val_labels = torch.from_numpy(dataset_test_part[:, [0]]).to(torch.float32)\n",
    "\n",
    "#Print accuracy on test set\n",
    "test_outputs = best_net(test_data).round().int().view(-1)\n",
    "\n",
    "y_pred = best_net(test_data)\n",
    "y_pred = y_pred.round().int().view(-1)\n",
    "print(\"accuracy on test set {:.3f}\".format(accuracy_score( val_labels,y_pred)))\n",
    "print(classification_report(val_labels, \n",
    "                            y_pred, \n",
    "                            target_names=['0', '1']))\n",
    "\n",
    "#print the confusion matrix\n",
    "cm = confusion_matrix(val_labels, test_outputs)\n",
    "disp = ConfusionMatrixDisplay(confusion_matrix=cm, display_labels=[0,1])\n",
    "disp.plot()\n",
    "plt.show()\n",
    "print(\"------------------------------------------------------------------------------------------------------\")\n"
   ]
  },
  {
   "cell_type": "markdown",
   "metadata": {},
   "source": [
    "MONK 2"
   ]
  },
  {
   "cell_type": "code",
   "execution_count": 232,
   "metadata": {},
   "outputs": [
    {
     "name": "stdout",
     "output_type": "stream",
     "text": [
      "Actual iter 0.0%\n",
      "Early stopping: 41\n",
      "Early stopping: 41\n",
      "Early stopping: 37\n",
      "Early stopping: 46\n",
      "Early stopping: 42\n"
     ]
    }
   ],
   "source": [
    "input_size = 17  \n",
    "output_size = 1\n",
    "params_grid_general = {\n",
    "    \"hidden_size\": [3, 4, 5],\n",
    "    \"learning_rate\": [0.1,0.4,0.7,0.8],\n",
    "    \"batch_size\": [4,8,12,32],\n",
    "    \"weight_decay\": [0,0.001,0.01],\n",
    "    \"momentum\": [0],\n",
    "    \"epochs\":[600],\n",
    "    \"optimizer\":[torch.optim.SGD],\n",
    "    \"l1_lambda\":[0]\n",
    "\n",
    "}\n",
    "\n",
    "\n",
    "params_grid = {\n",
    "    \"hidden_size\": [4],\n",
    "    \"learning_rate\": [0.8],\n",
    "    \"batch_size\": [4],\n",
    "    \"weight_decay\": [0],\n",
    "    \"momentum\": [0.5],\n",
    "    \"epochs\":[600],\n",
    "    \"optimizer\":[torch.optim.SGD],\n",
    "    \"l1_lambda\":[0]\n",
    "\n",
    "}\n",
    "    \n",
    "\n",
    "dataset_train_part = read_ds(TR_PATH_2)\n",
    "dataset_test_part = read_ds(TS_PATH_2)\n",
    "\n",
    "dataset = dataset_train_part\n",
    "\n",
    "best_params = dogridsearch(dataset_train_part=dataset_train_part,params_grid=params_grid,output_size=output_size,input_size=input_size)\n",
    "        \n",
    "\n",
    "\n"
   ]
  },
  {
   "cell_type": "code",
   "execution_count": 233,
   "metadata": {},
   "outputs": [
    {
     "name": "stdout",
     "output_type": "stream",
     "text": [
      "Best hidden size: 4 \n",
      "Best learning rate: 0.8 \n",
      "Best batch size: 4 \n",
      "Best weight decay: 0 \n",
      "Best momentum: 0.5\n",
      "(0.009360009054827659, 0.8, 600, MSELoss(), 4, 0.5, <class 'torch.optim.sgd.SGD'>, 0, 4)\n"
     ]
    }
   ],
   "source": [
    "#Best parameters found\n",
    "print(f\"Best hidden size: {best_params[4]} \\nBest learning rate: {best_params[1]} \\nBest batch size: {best_params[8]} \\nBest weight decay: {best_params[7]} \\nBest momentum: {best_params[5]}\")\n",
    "\n",
    "print(best_params)"
   ]
  },
  {
   "cell_type": "code",
   "execution_count": 234,
   "metadata": {},
   "outputs": [
    {
     "name": "stdout",
     "output_type": "stream",
     "text": [
      "Starting epoch 1\n",
      "0.22968808706435892\n",
      "Starting epoch 2\n",
      "0.23187179468503152\n",
      "Starting epoch 3\n",
      "0.21163225518884482\n",
      "Starting epoch 4\n",
      "0.2054561836541527\n",
      "Starting epoch 5\n",
      "0.16049307764128404\n",
      "Starting epoch 6\n",
      "0.13863140508894706\n",
      "Starting epoch 7\n",
      "0.055047111592203796\n",
      "Starting epoch 8\n",
      "0.020810228285241733\n",
      "Starting epoch 9\n",
      "0.01026946801963883\n",
      "Starting epoch 10\n",
      "0.005967732874624845\n",
      "Starting epoch 11\n",
      "0.005272162854520569\n",
      "Starting epoch 12\n",
      "0.0036478261862174367\n",
      "Starting epoch 13\n",
      "0.003209255009467058\n",
      "Starting epoch 14\n",
      "0.002738975208086669\n",
      "Starting epoch 15\n",
      "0.002288040125643386\n",
      "Starting epoch 16\n",
      "0.002037511991888837\n",
      "Starting epoch 17\n",
      "0.0018531542400187053\n",
      "Starting epoch 18\n",
      "0.0016669073296792772\n",
      "Starting epoch 19\n",
      "0.0015231516202523683\n",
      "Starting epoch 20\n",
      "0.0013831548273662553\n",
      "Starting epoch 21\n",
      "0.0012766553799910642\n",
      "Starting epoch 22\n",
      "0.0011997777333750423\n",
      "Starting epoch 23\n",
      "0.001113627262249658\n",
      "Starting epoch 24\n",
      "0.0010467662890463274\n",
      "Starting epoch 25\n",
      "0.0009842305019750104\n",
      "Starting epoch 26\n",
      "0.0009273722148295578\n",
      "Starting epoch 27\n",
      "0.00088181108690656\n",
      "Starting epoch 28\n",
      "0.0008311093293337359\n",
      "Starting epoch 29\n",
      "0.0007887759334321514\n",
      "Starting epoch 30\n",
      "0.0007586488337202118\n",
      "Starting epoch 31\n",
      "0.0007238570128888737\n",
      "Starting epoch 32\n",
      "0.000691559483567727\n",
      "Starting epoch 33\n",
      "0.0006666030834215538\n",
      "Starting epoch 34\n",
      "0.0006352947885817331\n",
      "Starting epoch 35\n",
      "0.0006084621725474588\n",
      "Starting epoch 36\n",
      "0.0005880748721446489\n",
      "Starting epoch 37\n",
      "0.0005663110885641934\n",
      "Starting epoch 38\n",
      "0.0005372239149976478\n",
      "Starting epoch 39\n",
      "0.0005197333528620355\n",
      "Starting epoch 40\n",
      "0.0005048160759610322\n",
      "Starting epoch 41\n",
      "0.0004899049396314054\n",
      "Early stopping:  40\n"
     ]
    },
    {
     "data": {
      "image/png": "[encoded data removed]",
      "text/plain": [
       "<Figure size 640x480 with 1 Axes>"
      ]
     },
     "metadata": {},
     "output_type": "display_data"
    }
   ],
   "source": [
    "best_net = train_test_model(dataset_train_part=dataset_train_part,dataset_test_part=dataset_test_part,best_params=best_params)  "
   ]
  },
  {
   "cell_type": "code",
   "execution_count": 235,
   "metadata": {},
   "outputs": [
    {
     "name": "stdout",
     "output_type": "stream",
     "text": [
      "accuracy on test set 1.000\n",
      "              precision    recall  f1-score   support\n",
      "\n",
      "           0       1.00      1.00      1.00       290\n",
      "           1       1.00      1.00      1.00       142\n",
      "\n",
      "    accuracy                           1.00       432\n",
      "   macro avg       1.00      1.00      1.00       432\n",
      "weighted avg       1.00      1.00      1.00       432\n",
      "\n"
     ]
    },
    {
     "data": {
      "image/png": "[encoded data removed]",
      "text/plain": [
       "<Figure size 640x480 with 2 Axes>"
      ]
     },
     "metadata": {},
     "output_type": "display_data"
    },
    {
     "name": "stdout",
     "output_type": "stream",
     "text": [
      "------------------------------------------------------------------------------------------------------\n"
     ]
    }
   ],
   "source": [
    "test_data = torch.from_numpy(dataset_test_part[:, 1:]).to(torch.float32)\n",
    "val_labels = torch.from_numpy(dataset_test_part[:, [0]]).to(torch.float32)\n",
    "\n",
    "#Print accuracy on test set\n",
    "test_outputs = best_net(test_data).round().int().view(-1)\n",
    "\n",
    "y_pred = best_net(test_data)\n",
    "y_pred = y_pred.round().int().view(-1)\n",
    "print(\"accuracy on test set {:.3f}\".format(accuracy_score( val_labels,y_pred)))\n",
    "print(classification_report(val_labels, \n",
    "                            y_pred, \n",
    "                            target_names=['0', '1']))\n",
    "\n",
    "#print the confusion matrix\n",
    "cm = confusion_matrix(val_labels, test_outputs)\n",
    "disp = ConfusionMatrixDisplay(confusion_matrix=cm, display_labels=[0,1])\n",
    "disp.plot()\n",
    "plt.show()\n",
    "print(\"------------------------------------------------------------------------------------------------------\")\n"
   ]
  },
  {
   "cell_type": "markdown",
   "metadata": {},
   "source": [
    "MONK 3"
   ]
  },
  {
   "cell_type": "code",
   "execution_count": 236,
   "metadata": {},
   "outputs": [
    {
     "name": "stdout",
     "output_type": "stream",
     "text": [
      "Actual iter 0.0%\n",
      "Early stopping: 35\n",
      "Early stopping: 20\n",
      "Early stopping: 23\n",
      "Early stopping: 31\n",
      "Early stopping: 31\n"
     ]
    }
   ],
   "source": [
    "input_size = 17  \n",
    "output_size = 1\n",
    "params_grid = {\n",
    "    \"hidden_size\": [3, 4, 5, 10],\n",
    "    \"learning_rate\": [0.1,0.4,0.7,0.8],\n",
    "    \"batch_size\": [4,8,12,32],\n",
    "    \"weight_decay\": [0.6,0.8,0.9],\n",
    "    \"momentum\": [0,0.1,0.4,0.7,0.8],\n",
    "    \"epochs\":[600],\n",
    "    \"optimizer\":[torch.optim.SGD],\n",
    "    \"l1_lambda\":[0.1,0.2,0]\n",
    "\n",
    "}\n",
    "\n",
    "\n",
    "params_grid_sp = {\n",
    "    \"hidden_size\": [4],\n",
    "    \"learning_rate\": [0.8],\n",
    "    \"batch_size\": [4],\n",
    "    \"weight_decay\": [0.9],\n",
    "    \"momentum\": [0.5],\n",
    "    \"epochs\":[600],\n",
    "    \"optimizer\":[torch.optim.SGD],\n",
    "    \"l1_lambda\":[0.5]\n",
    "}\n",
    "    \n",
    "\n",
    "dataset_train_part = read_ds(TR_PATH_3)\n",
    "dataset_test_part = read_ds(TS_PATH_3)\n",
    "\n",
    "dataset = dataset_train_part\n",
    "\n",
    "best_params = dogridsearch(dataset_train_part=dataset_train_part,params_grid=params_grid,output_size=output_size,input_size=input_size)\n",
    "        \n",
    "\n",
    "\n"
   ]
  },
  {
   "cell_type": "code",
   "execution_count": 237,
   "metadata": {},
   "outputs": [
    {
     "name": "stdout",
     "output_type": "stream",
     "text": [
      "Best hidden size: 4 \n",
      "Best learning rate: 0.8 \n",
      "Best batch size: 4 \n",
      "Best weight decay: 0.9 \n",
      "Best momentum: 0.5\n",
      "(0.25576952294508615, 0.8, 600, MSELoss(), 4, 0.5, <class 'torch.optim.sgd.SGD'>, 0.9, 4)\n"
     ]
    }
   ],
   "source": [
    "#Best parameters found\n",
    "print(f\"Best hidden size: {best_params[4]} \\nBest learning rate: {best_params[1]} \\nBest batch size: {best_params[8]} \\nBest weight decay: {best_params[7]} \\nBest momentum: {best_params[5]}\")\n",
    "\n",
    "print(best_params)"
   ]
  },
  {
   "cell_type": "code",
   "execution_count": 238,
   "metadata": {},
   "outputs": [
    {
     "name": "stdout",
     "output_type": "stream",
     "text": [
      "Starting epoch 1\n",
      "0.2510296655473886\n",
      "Starting epoch 2\n",
      "0.250541847475149\n",
      "Starting epoch 3\n",
      "0.25437779172703073\n",
      "Starting epoch 4\n",
      "0.24951218565305075\n",
      "Starting epoch 5\n",
      "0.2592880476128172\n",
      "Starting epoch 6\n",
      "0.25060028306863924\n",
      "Starting epoch 7\n",
      "0.24937184982829624\n",
      "Starting epoch 8\n",
      "0.24944942527347141\n",
      "Starting epoch 9\n",
      "0.2494748934275574\n",
      "Starting epoch 10\n",
      "0.25089921457348047\n",
      "Starting epoch 11\n",
      "0.24924674961302015\n",
      "Starting epoch 12\n",
      "0.25071264527462145\n",
      "Starting epoch 13\n",
      "0.2553284186179991\n",
      "Starting epoch 14\n",
      "0.2554182461290448\n",
      "Starting epoch 15\n",
      "0.24922861986690098\n",
      "Starting epoch 16\n",
      "0.25091401846320543\n",
      "Starting epoch 17\n",
      "0.24929536713494194\n",
      "Starting epoch 18\n",
      "0.24989088031428833\n",
      "Starting epoch 19\n",
      "0.2565345873159391\n",
      "Starting epoch 20\n",
      "0.24925008085038927\n",
      "Starting epoch 21\n",
      "0.24967172741889954\n",
      "Starting epoch 22\n",
      "0.24939579102728102\n",
      "Starting epoch 23\n",
      "0.25469046155059777\n",
      "Starting epoch 24\n",
      "0.2508209470521521\n",
      "Starting epoch 25\n",
      "0.25666466024186874\n",
      "Starting epoch 26\n",
      "0.2521001994609833\n",
      "Starting epoch 27\n",
      "0.25612059511520247\n",
      "Starting epoch 28\n",
      "0.2492292166032173\n",
      "Starting epoch 29\n",
      "0.24923191053999794\n",
      "Starting epoch 30\n",
      "0.24939409560627407\n",
      "Starting epoch 31\n",
      "0.2499556475215488\n",
      "Early stopping:  30\n"
     ]
    },
    {
     "data": {
      "image/png": "[encoded data removed]",
      "text/plain": [
       "<Figure size 640x480 with 1 Axes>"
      ]
     },
     "metadata": {},
     "output_type": "display_data"
    }
   ],
   "source": [
    "best_net = train_test_model(dataset_train_part=dataset_train_part,dataset_test_part=dataset_test_part,best_params=best_params)  "
   ]
  },
  {
   "cell_type": "code",
   "execution_count": 239,
   "metadata": {},
   "outputs": [
    {
     "name": "stdout",
     "output_type": "stream",
     "text": [
      "accuracy on test set 0.528\n",
      "              precision    recall  f1-score   support\n",
      "\n",
      "           0       0.00      0.00      0.00       204\n",
      "           1       0.53      1.00      0.69       228\n",
      "\n",
      "    accuracy                           0.53       432\n",
      "   macro avg       0.26      0.50      0.35       432\n",
      "weighted avg       0.28      0.53      0.36       432\n",
      "\n"
     ]
    },
    {
     "name": "stderr",
     "output_type": "stream",
     "text": [
      "c:\\Users\\given\\AppData\\Local\\Programs\\Python\\Python310\\lib\\site-packages\\sklearn\\metrics\\_classification.py:1469: UndefinedMetricWarning: Precision and F-score are ill-defined and being set to 0.0 in labels with no predicted samples. Use `zero_division` parameter to control this behavior.\n",
      "  _warn_prf(average, modifier, msg_start, len(result))\n",
      "c:\\Users\\given\\AppData\\Local\\Programs\\Python\\Python310\\lib\\site-packages\\sklearn\\metrics\\_classification.py:1469: UndefinedMetricWarning: Precision and F-score are ill-defined and being set to 0.0 in labels with no predicted samples. Use `zero_division` parameter to control this behavior.\n",
      "  _warn_prf(average, modifier, msg_start, len(result))\n",
      "c:\\Users\\given\\AppData\\Local\\Programs\\Python\\Python310\\lib\\site-packages\\sklearn\\metrics\\_classification.py:1469: UndefinedMetricWarning: Precision and F-score are ill-defined and being set to 0.0 in labels with no predicted samples. Use `zero_division` parameter to control this behavior.\n",
      "  _warn_prf(average, modifier, msg_start, len(result))\n"
     ]
    },
    {
     "data": {
      "image/png": "[encoded data removed]",
      "text/plain": [
       "<Figure size 640x480 with 2 Axes>"
      ]
     },
     "metadata": {},
     "output_type": "display_data"
    },
    {
     "name": "stdout",
     "output_type": "stream",
     "text": [
      "------------------------------------------------------------------------------------------------------\n"
     ]
    }
   ],
   "source": [
    "test_data = torch.from_numpy(dataset_test_part[:, 1:]).to(torch.float32)\n",
    "val_labels = torch.from_numpy(dataset_test_part[:, [0]]).to(torch.float32)\n",
    "\n",
    "#Print accuracy on test set\n",
    "test_outputs = best_net(test_data).round().int().view(-1)\n",
    "\n",
    "y_pred = best_net(test_data)\n",
    "y_pred = y_pred.round().int().view(-1)\n",
    "print(\"accuracy on test set {:.3f}\".format(accuracy_score( val_labels,y_pred)))\n",
    "print(classification_report(val_labels, \n",
    "                            y_pred, \n",
    "                            target_names=['0', '1']))\n",
    "\n",
    "#print the confusion matrix\n",
    "cm = confusion_matrix(val_labels, test_outputs)\n",
    "disp = ConfusionMatrixDisplay(confusion_matrix=cm, display_labels=[0,1])\n",
    "disp.plot()\n",
    "plt.show()\n",
    "print(\"------------------------------------------------------------------------------------------------------\")\n"
   ]
  }
 ],
 "metadata": {
  "kernelspec": {
   "display_name": "base",
   "language": "python",
   "name": "python3"
  },
  "language_info": {
   "codemirror_mode": {
    "name": "ipython",
    "version": 3
   },
   "file_extension": ".py",
   "mimetype": "text/x-python",
   "name": "python",
   "nbconvert_exporter": "python",
   "pygments_lexer": "ipython3",
   "version": "3.10.7"
  }
 },
 "nbformat": 4,
 "nbformat_minor": 2
}
